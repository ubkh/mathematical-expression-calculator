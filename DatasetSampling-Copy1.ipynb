{
 "cells": [
  {
   "cell_type": "code",
   "execution_count": null,
   "metadata": {},
   "outputs": [],
   "source": [
    "import os\n",
    "from random import sample\n",
    "import shutil"
   ]
  },
  {
   "cell_type": "code",
   "execution_count": null,
   "metadata": {},
   "outputs": [],
   "source": [
    "def SampleData():\n",
    "    char = input(\"Input character:\")\n",
    "    sampleSize = input(\"Input sample size:\")\n",
    "    \n",
    "    sampleTaken = []\n",
    "    \n",
    "    #dataset directory\n",
    "    path = 'dataset/'+ char + '/'\n",
    "    #new directory where we dump dataset files\n",
    "    destination = 'dataset_sample/'+ char + '/'\n",
    "    files =  os.listdir(path)\n",
    "    \n",
    "    sampleTaken = sample(files,sampleSize)\n",
    "    \n",
    "    #if destination directory doesn't exist, create it\n",
    "    if(os.path.isdir(destination)==False):\n",
    "        os.mkdir('dataset_sample/'+char)\n",
    "    \n",
    "    #each data from sample dumped into destination folder\n",
    "    for element in range(0,len(sampleTaken)):\n",
    "        print(sampleTaken[element])\n",
    "        print(\"COPYING...\")\n",
    "        shutil.copy((path+sampleTaken[element]), destination)\n",
    "        print(\"COPYING COMPLETE.\")"
   ]
  },
  {
   "cell_type": "code",
   "execution_count": null,
   "metadata": {},
   "outputs": [],
   "source": [
    "SampleData()"
   ]
  },
  {
   "cell_type": "code",
   "execution_count": null,
   "metadata": {},
   "outputs": [],
   "source": []
  }
 ],
 "metadata": {
  "kernelspec": {
   "display_name": "Python 3",
   "language": "python",
   "name": "python3"
  },
  "language_info": {
   "codemirror_mode": {
    "name": "ipython",
    "version": 3
   },
   "file_extension": ".py",
   "mimetype": "text/x-python",
   "name": "python",
   "nbconvert_exporter": "python",
   "pygments_lexer": "ipython3",
   "version": "3.6.8"
  }
 },
 "nbformat": 4,
 "nbformat_minor": 2
}
