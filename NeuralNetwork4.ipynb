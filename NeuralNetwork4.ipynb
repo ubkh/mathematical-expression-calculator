{
 "cells": [
  {
   "cell_type": "code",
   "execution_count": null,
   "metadata": {},
   "outputs": [],
   "source": [
    "#TODO:implement rotation checking for images????\n",
    "#TODO: implement orientation checking for images\n",
    "#TODO: test using performance vs epoch graphs etc"
   ]
  },
  {
   "cell_type": "code",
   "execution_count": 1,
   "metadata": {},
   "outputs": [],
   "source": [
    "import numpy as np\n",
    "import imageio\n",
    "import cv2\n",
    "import matplotlib.pyplot\n",
    "import imutils\n",
    "#import scipy\n",
    "#from scipy import special\n",
    "from PIL import Image\n",
    "import math"
   ]
  },
  {
   "cell_type": "code",
   "execution_count": 2,
   "metadata": {},
   "outputs": [],
   "source": [
    "class NeuralNetwork:\n",
    "    \n",
    "    #initialise neural network\n",
    "    def __init__(self, givenINodes, givenHNodes, givenONodes, givenLearningRate):\n",
    "        #setup number of nodes in each layer\n",
    "        self.inputNodes = givenINodes\n",
    "        self.hiddenNodes = givenHNodes\n",
    "        self.outputNodes = givenONodes\n",
    "        \n",
    "        #setup weights with initial values\n",
    "        self.weightsInputHidden = np.random.normal(0.0, pow(self.inputNodes, -0.5), (self.hiddenNodes, self.inputNodes))\n",
    "        self.weightsHiddenOutput = np.random.normal(0.0, pow(self.hiddenNodes, -0.5), (self.outputNodes, self.hiddenNodes))\n",
    "        \n",
    "        #setup learning rate\n",
    "        self.learningRate = givenLearningRate\n",
    "        \n",
    "        #setup activation function\n",
    "        #self.activationFunc = lambda x: scipy.special.expit(x)\n",
    "        self.activationFunc = lambda x: self.sigmoid(x)\n",
    "            \n",
    "        pass\n",
    "            \n",
    "    def sigmoid(self, Z):\n",
    "        A = 1 / (1 + np.exp(-Z))\n",
    "        return A\n",
    "    \n",
    "    #train the neural network\n",
    "    def train(self, givenInputs, givenTargets):\n",
    "        #inputs and target lists turned into 2D arrays\n",
    "        inputs = np.array(givenInputs, ndmin=2).T\n",
    "        targets = np.array(givenTargets, ndmin=2).T\n",
    "        \n",
    "        #signals into hidden layer calculated\n",
    "        hiddenInputs = np.dot(self.weightsInputHidden, inputs)\n",
    "        #signals coming from hidden layer calculated\n",
    "        hiddenOutputs = self.activationFunc(hiddenInputs)\n",
    "        \n",
    "        #signals into output layer calculated\n",
    "        finalInputs = np.dot(self.weightsHiddenOutput, hiddenOutputs)\n",
    "        #signals from output layer calculated\n",
    "        finalOutputs = self.activationFunc(finalInputs)\n",
    "        \n",
    "        #error backpropagation:\n",
    "        #errors from output layer\n",
    "        outputErrors = targets - finalOutputs\n",
    "        #errors from hidden layer\n",
    "        hiddenErrors = np.dot(self.weightsHiddenOutput.T, outputErrors)\n",
    "        \n",
    "        #weight links updated between all layers\n",
    "        self.weightsHiddenOutput += self.learningRate * np.dot((outputErrors * finalOutputs * (1.0 - finalOutputs)), np.transpose(hiddenOutputs))\n",
    "        self.weightsInputHidden += self.learningRate * np.dot((hiddenErrors * hiddenOutputs * (1.0 - hiddenOutputs)), np.transpose(inputs))\n",
    "        \n",
    "        pass\n",
    "    \n",
    "    #query the neural network\n",
    "    def query(self, givenInputs):\n",
    "        #inputs list converted into a 2D array\n",
    "        inputs = np.array(givenInputs, ndmin=2).T\n",
    "        \n",
    "        #signals into hidden layer calculated\n",
    "        hiddenInputs = np.dot(self.weightsInputHidden, inputs)\n",
    "        #signals coming from hidden layer calculated\n",
    "        hiddenOutputs = self.activationFunc(hiddenInputs)\n",
    "        \n",
    "        #signals into output layer calculated\n",
    "        finalInputs = np.dot(self.weightsHiddenOutput, hiddenOutputs)\n",
    "        #final signals from neural net calculated\n",
    "        finalOutputs = self.activationFunc(finalInputs)\n",
    "        \n",
    "        return finalOutputs\n",
    "    \n",
    "        "
   ]
  },
  {
   "cell_type": "code",
   "execution_count": 3,
   "metadata": {},
   "outputs": [],
   "source": [
    "#set number of nodes in each layer\n",
    "inputNodes = 2025 #2025\n",
    "hiddenNodes = 700\n",
    "outputNodes = 11\n",
    "\n",
    "#set learning rate\n",
    "learningRate = 0.37\n",
    "\n",
    "#an instance of the neural network created\n",
    "n = NeuralNetwork(inputNodes, hiddenNodes, outputNodes, learningRate)"
   ]
  },
  {
   "cell_type": "code",
   "execution_count": 4,
   "metadata": {},
   "outputs": [],
   "source": [
    "#open training data file in READ mode\n",
    "#trainingDataFile = open(\"mnist_dataset/mnist_train.csv\",'r')\n",
    "trainingDataFile = open(\"dataset_pixels.csv\",'r')\n",
    "#save all the lines from the file into a list\n",
    "trainingDataList = trainingDataFile.readlines()\n",
    "#close the file\n",
    "trainingDataFile.close()\n",
    "\n",
    "trainingDataLabelsFile = open(\"dataset_labels.txt\",'r')\n",
    "#save all the lines from the file into a list\n",
    "trainingDataLabelsList = trainingDataLabelsFile.readlines()\n",
    "#close the file\n",
    "trainingDataLabelsFile.close()\n",
    "\n",
    "#DEBUG\n",
    "#print(trainingDataList)\n",
    "#print(\"--\")\n",
    "#print(trainingDataLabelsList)"
   ]
  },
  {
   "cell_type": "code",
   "execution_count": 5,
   "metadata": {},
   "outputs": [],
   "source": [
    "#trainPrep\n",
    "#number of times training data used for training\n",
    "epochs = 10\n",
    "sampleSize = 100\n",
    "\n",
    "for e in range(epochs):\n",
    "    #for every record in the training data\n",
    "    for record in trainingDataList:\n",
    "        #split each record by the commas\n",
    "        allVals = record.split(',')\n",
    "        #scale and shift the inputs\n",
    "        #inputs = (np.asfarray(allVals[1:]) / 255.0 * 0.99) + 0.01\n",
    "        inputs = (np.asfarray(allVals) / 255.0 * 0.99) + 0.01\n",
    "        \n",
    "        #target output values created\n",
    "        targets = np.zeros(outputNodes) + 0.01\n",
    "        #targets[int(allVals[0])] = 0.99\n",
    "        #targets[int(trainingDataLabelsList[record])] = 0.99\n",
    "        currentIndex = trainingDataList.index(record)\n",
    "        #print(currentIndex)\n",
    "        targets[(math.ceil(currentIndex/sampleSize))-1] = 0.99\n",
    "        n.train(inputs, targets)\n",
    "        \n",
    "        pass\n",
    "    #print(len(allVals))\n",
    "    #print(len(trainingDataLabelsList))\n",
    "    #print(targets)\n",
    "    #for c in range(0, len(trainingDataLabelsList)):\n",
    "    #    targets[c] = 0.99\n",
    "    #n.train(inputs, targets)\n",
    "    pass\n",
    "\n",
    "#print(allVals)\n",
    "#print(inputs[166])\n",
    "#print(targets)"
   ]
  },
  {
   "cell_type": "code",
   "execution_count": 12,
   "metadata": {},
   "outputs": [],
   "source": [
    "im = Image.open('separated/3.png') \n",
    "sqrWidth = np.ceil(np.sqrt(im.size[0]*im.size[1])).astype(int) \n",
    "im_resize = im.resize((sqrWidth, sqrWidth)) \n",
    "im_resize.save('output.png')"
   ]
  },
  {
   "cell_type": "code",
   "execution_count": 13,
   "metadata": {},
   "outputs": [
    {
     "name": "stdout",
     "output_type": "stream",
     "text": [
      "Loading image...\n",
      "Min: 0.01\n",
      "Max: 0.98107606\n",
      "[[3.28030725e-03]\n",
      " [4.48026594e-04]\n",
      " [8.47429585e-03]\n",
      " [3.24707263e-03]\n",
      " [3.29160695e-03]\n",
      " [6.35382965e-02]\n",
      " [1.54935903e-02]\n",
      " [2.41737217e-04]\n",
      " [2.36384366e-01]\n",
      " [3.83356673e-02]\n",
      " [7.72652944e-01]]\n",
      "10\n",
      "Predicted value: 3\n",
      "\n"
     ]
    },
    {
     "data": {
      "image/png": "[encoded data removed]",
      "text/plain": [
       "<Figure size 432x288 with 1 Axes>"
      ]
     },
     "metadata": {
      "needs_background": "light"
     },
     "output_type": "display_data"
    }
   ],
   "source": [
    "print (\"Loading image...\")\n",
    "imageArray = imageio.imread('output.png', as_gray=True)\n",
    "\n",
    "imageRotated = imutils.rotate(imageArray, 360)\n",
    "#imageResized = imageRotated.reshape(28,28)\n",
    "imageResized = cv2.resize(imageRotated, (45, 45), cv2.INTER_AREA)\n",
    "\n",
    "imageData = 255.0 - imageResized.reshape(2025)\n",
    "imageData = (imageData / 255.0 * 0.99) + 0.01\n",
    "\n",
    "print (\"Min:\", np.min(imageData))\n",
    "print (\"Max:\", np.max(imageData))\n",
    "\n",
    "matplotlib.pyplot.imshow(imageData.reshape(45,45), cmap='Greys', interpolation='None')\n",
    "\n",
    "outputs = n.query(imageData)\n",
    "\n",
    "print (outputs)\n",
    "\n",
    "#label = np.argmax(outputs)\n",
    "labelIndex = np.argmax(outputs)\n",
    "print(labelIndex)\n",
    "label = trainingDataLabelsList[(labelIndex*sampleSize)+1]\n",
    "print (\"Predicted value:\", label)"
   ]
  },
  {
   "cell_type": "code",
   "execution_count": null,
   "metadata": {},
   "outputs": [],
   "source": []
  }
 ],
 "metadata": {
  "kernelspec": {
   "display_name": "Python 3",
   "language": "python",
   "name": "python3"
  },
  "language_info": {
   "codemirror_mode": {
    "name": "ipython",
    "version": 3
   },
   "file_extension": ".py",
   "mimetype": "text/x-python",
   "name": "python",
   "nbconvert_exporter": "python",
   "pygments_lexer": "ipython3",
   "version": "3.6.8"
  }
 },
 "nbformat": 4,
 "nbformat_minor": 2
}
