{
 "cells": [
  {
   "cell_type": "code",
   "execution_count": 1,
   "metadata": {},
   "outputs": [
    {
     "name": "stdout",
     "output_type": "stream",
     "text": [
      "importing Jupyter notebook from LexicalAnalysis.ipynb\n"
     ]
    }
   ],
   "source": [
    "import import_ipynb\n",
    "import LexicalAnalysis as la"
   ]
  },
  {
   "cell_type": "code",
   "execution_count": 2,
   "metadata": {},
   "outputs": [],
   "source": [
    "class Stack:\n",
    "    '''Data structure for a Stack (LIFO)'''\n",
    "\n",
    "    def __init__(self, another=None):\n",
    "        self.list = []\n",
    "        if another:\n",
    "            self.list = another.list\n",
    "\n",
    "    def push(self, val):\n",
    "        self.list.append(val)\n",
    "\n",
    "    def pop(self):\n",
    "        return self.list.pop() if self.list else None\n",
    "\n",
    "    def peek(self):\n",
    "        return self.list[-1] if self.list else None\n",
    "\n",
    "    def isEmpty(self):\n",
    "        return False if self.list else True\n",
    "\n",
    "    def size(self):\n",
    "        return len(self.list)\n",
    "    \n",
    "    def reverse(self):\n",
    "        return self.list.reverse()\n",
    "    \n",
    "    def display(self):\n",
    "        #print(self.list)\n",
    "        return self.list\n",
    "        #prints list elements on each line rather than whole list at once\n",
    "        #for element in range(0,len(self.list)):\n",
    "         #   print(self.list[element])\n",
    "        #   print(self.list[element].type)\n",
    "         #   print(self.list[element].value)"
   ]
  },
  {
   "cell_type": "code",
   "execution_count": 3,
   "metadata": {},
   "outputs": [],
   "source": [
    "def Parse(inp):\n",
    "    outQueue = []\n",
    "    opStack = Stack()\n",
    "    result = \"\"\n",
    "\n",
    "    ASSOCIATIVITY = {\n",
    "        '^' : \"right\", # raise\n",
    "        '*' : \"left\", # multiply\n",
    "        '/' : \"left\", # divide\n",
    "        '+' : \"left\", # add\n",
    "        '-' : \"left\"  # subtract\n",
    "    }\n",
    "\n",
    "    PRECEDENCE = {\n",
    "        '^' : 4, # raise\n",
    "        '*' : 3, # multiply\n",
    "        '/' : 3, # divide\n",
    "        '+' : 2, # add\n",
    "        '-' : 2  # subtract\n",
    "    }\n",
    "\n",
    "    \n",
    "    tokens = la.Tokenise(inp)\n",
    "    \n",
    "    print(len(tokens))\n",
    "    #print(opStack.size())\n",
    "    \n",
    "    for t in tokens:\n",
    "        if(t.type == \"Operator\"):\n",
    "            t.precedence = PRECEDENCE[t.value]\n",
    "            t.associativity = ASSOCIATIVITY[t.value]\n",
    "    \n",
    "    for t in tokens:\n",
    "        if(t.type == \"Literal\" or t.type == \"Variable\"):\n",
    "            outQueue.append(t)\n",
    "        elif(t.type == \"Function\"):\n",
    "            opStack.push(t)\n",
    "        elif(t.type == \"Operator\"):\n",
    "\n",
    "            if(opStack.isEmpty() == False):\n",
    "                #print(opStack.peek().type)\n",
    "                #print(t.associativity)\n",
    "                #print(t.precedence())\n",
    "                #print(opStack.peek().precedence())\n",
    "                #while(opStack.peek().type == \"Operator\") and ((t.associativity() == \"left\" and t.precedence() <= opStack.peek().precedence()) or (t.associativity() == \"right\" and t.precedence() < opStack.peek().precedence()):\n",
    "                while(opStack.peek().type == \"Operator\") and ((t.associativity == \"left\") and (t.precedence <= opStack.peek().precedence) or (t.associativity == \"right\") and (t.precedence < opStack.peek().precedence)):\n",
    "                    outQueue.append(opStack.pop())\n",
    "            opStack.push(t)\n",
    "        elif(t.type == \"Left Parenthesis\"):\n",
    "            opStack.push(t)\n",
    "        elif(t.type == \"Right Parenthesis\"):\n",
    "            if(opStack.isEmpty() == False):\n",
    "                while(opStack.peek().type != \"Left Parenthesis\"):\n",
    "                    outQueue.append(opStack.pop())\n",
    "                opStack.pop()\n",
    "                if(opStack.isEmpty() == False and opStack.peek().type == \"Function\"):\n",
    "                    outQueue.append(opStack.pop())\n",
    "    \n",
    "    if(opStack.size()>1):\n",
    "        opStack.reverse()\n",
    "        outQueue = outQueue + opStack.display()\n",
    "    elif(opStack.size()>0):\n",
    "        outQueue.append(opStack.peek())\n",
    "\n",
    "    for i in outQueue:\n",
    "        result = result + (i.value) + \" \"\n",
    "        \n",
    "        \n",
    "    print(result)\n",
    "         "
   ]
  },
  {
   "cell_type": "code",
   "execution_count": 4,
   "metadata": {},
   "outputs": [],
   "source": [
    "#UNFINISHED\n",
    "#class AST:\n",
    " #   def __init__(self, value, leftChildNode=None, rightChildNode=None):\n",
    "  #      self.value = value\n",
    "   #     \n",
    "    #    if leftChildNode != None or rightChildNode != None:\n",
    "     #       assert leftChildNode != None and rightChildNode != None, \\\n",
    "            \n",
    "      #  self.leftChildNode = None\n",
    "       # if leftChildNode != None:\n",
    "        #    if type(leftChildNode) == AST:\n",
    "         #       self.leftChildNode = leftChildNode\n",
    "          #  else:\n",
    "           #     self.leftChildNode = AST(leftChildNode)\n",
    "                \n",
    "        #self.rightChildNode = None\n",
    "        #if rightChildNode != None:\n",
    "         #   if type(rightChildNode) == AST:\n",
    "          #      self.rightChildNode = rightChildNode\n",
    "           # else:\n",
    "            #    self.rightChildNode = AST(rightChildNode)\n",
    "        \n"
   ]
  },
  {
   "cell_type": "code",
   "execution_count": 7,
   "metadata": {},
   "outputs": [
    {
     "name": "stdout",
     "output_type": "stream",
     "text": [
      "debug\n",
      "['-']\n",
      "6\n",
      "-1 1 cos * \n"
     ]
    }
   ],
   "source": [
    "#Parse(\"3 + 4 * 2 / ( 1 - 5 ) ^ 2 ^ \")\n",
    "#Parse(\"sin(2x)\")\n",
    "#Parse(\"9 + 3\")\n",
    "#Parse(\"-4+6\")\n",
    "Parse(\"-cos(1)\")"
   ]
  },
  {
   "cell_type": "code",
   "execution_count": null,
   "metadata": {},
   "outputs": [],
   "source": []
  }
 ],
 "metadata": {
  "kernelspec": {
   "display_name": "Python 3",
   "language": "python",
   "name": "python3"
  },
  "language_info": {
   "codemirror_mode": {
    "name": "ipython",
    "version": 3
   },
   "file_extension": ".py",
   "mimetype": "text/x-python",
   "name": "python",
   "nbconvert_exporter": "python",
   "pygments_lexer": "ipython3",
   "version": "3.6.8"
  }
 },
 "nbformat": 4,
 "nbformat_minor": 2
}
