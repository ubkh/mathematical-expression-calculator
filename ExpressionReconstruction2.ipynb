{
 "cells": [
  {
   "cell_type": "code",
   "execution_count": null,
   "metadata": {},
   "outputs": [],
   "source": [
    "#COPYRIGHT UBAYD KHAN 2020. All rights reserved in accordance with the\n",
    "#following four-clause BSD license."
   ]
  },
  {
   "cell_type": "code",
   "execution_count": null,
   "metadata": {},
   "outputs": [],
   "source": [
    "#Redistribution and use in source and binary forms, with or without\n",
    "#modification, are permitted provided that the following conditions are met:\n",
    "#1. Redistributions of source code must retain the above copyright\n",
    "#   notice, this list of conditions and the following disclaimer.\n",
    "#2. Redistributions in binary form must reproduce the above copyright\n",
    "#   notice, this list of conditions and the following disclaimer in the\n",
    "#   documentation and/or other materials provided with the distribution.\n",
    "#3. All advertising materials mentioning features or use of this software\n",
    "#   must display the following acknowledgement:\n",
    "#   This product includes software developed by the <organization>.\n",
    "#4. Neither the name of the Ubayd Khan nor the\n",
    "#   names of its contributors may be used to endorse or promote products\n",
    "#   derived from this software without specific prior written permission.\n",
    "#\n",
    "#THIS SOFTWARE IS PROVIDED BY UBAYD KHAN ''AS IS'' AND ANY\n",
    "#EXPRESS OR IMPLIED WARRANTIES, INCLUDING, BUT NOT LIMITED TO, THE IMPLIED\n",
    "#WARRANTIES OF MERCHANTABILITY AND FITNESS FOR A PARTICULAR PURPOSE ARE\n",
    "#DISCLAIMED. IN NO EVENT SHALL UBAYD KHAN BE LIABLE FOR ANY\n",
    "#DIRECT, INDIRECT, INCIDENTAL, SPECIAL, EXEMPLARY, OR CONSEQUENTIAL DAMAGES\n",
    "#(INCLUDING, BUT NOT LIMITED TO, PROCUREMENT OF SUBSTITUTE GOODS OR SERVICES;\n",
    "#LOSS OF USE, DATA, OR PROFITS; OR BUSINESS INTERRUPTION) HOWEVER CAUSED AND\n",
    "#ON ANY THEORY OF LIABILITY, WHETHER IN CONTRACT, STRICT LIABILITY, OR TORT\n",
    "#(INCLUDING NEGLIGENCE OR OTHERWISE) ARISING IN ANY WAY OUT OF THE USE OF THIS\n",
    "#SOFTWARE, EVEN IF ADVISED OF THE POSSIBILITY OF SUCH DAMAGE."
   ]
  },
  {
   "cell_type": "code",
   "execution_count": 1,
   "metadata": {},
   "outputs": [],
   "source": [
    "import cv2\n",
    "from PIL import Image, ImageEnhance"
   ]
  },
  {
   "cell_type": "code",
   "execution_count": 2,
   "metadata": {
    "scrolled": true
   },
   "outputs": [
    {
     "name": "stdout",
     "output_type": "stream",
     "text": [
      "importing Jupyter notebook from NeuralNetwork4.ipynb\n",
      "importing Jupyter notebook from CharacterSeparation2.ipynb\n"
     ]
    }
   ],
   "source": [
    "import import_ipynb\n",
    "import NeuralNetwork4 as neural\n",
    "import CharacterSeparation2 as cs"
   ]
  },
  {
   "cell_type": "code",
   "execution_count": 3,
   "metadata": {},
   "outputs": [],
   "source": [
    "def separateFraction(box,origWidth,origHeight,image):\n",
    "    x = box[0]\n",
    "    y = box[1]\n",
    "    w = box[2]\n",
    "    h = box[3]\n",
    "    boxH = h\n",
    "        \n",
    "    #denominator\n",
    "    y = y + h\n",
    "    h = origHeight - (origHeight - y)\n",
    "    roi = image[y:y+h, x:x+w]\n",
    "    cv2.imwrite(\"separated/denom.png\", roi)\n",
    "    cv2.imwrite(\"data/denom.png\", roi)\n",
    "    denom = reconstructExpression(\"denom.png\")\n",
    "    \n",
    "    #numerator\n",
    "    h = (origHeight-h) -boxH\n",
    "    y = y - boxH - h\n",
    "    roi = image[y:y+h, x:x+w]\n",
    "    cv2.imwrite(\"separated/num.png\", roi)\n",
    "    cv2.imwrite(\"data/num.png\", roi)\n",
    "    num = reconstructExpression(\"num.png\")\n",
    " \n",
    "    #rest\n",
    "    x = x + w\n",
    "    w = origWidth-x\n",
    "    h = origHeight\n",
    "    roi = image[y:y+h, x:x+w]\n",
    "    cv2.imwrite(\"separated/rest.png\", roi)\n",
    "    cv2.imwrite(\"data/rest.png\", roi)\n",
    "    rest = reconstructExpression(\"rest.png\")\n",
    "    \n",
    "    returnString = \"frac(\"+num+\",\"+denom+\")\"+rest\n",
    "\n",
    "    return returnString"
   ]
  },
  {
   "cell_type": "code",
   "execution_count": 4,
   "metadata": {},
   "outputs": [],
   "source": [
    "def checkFractionBar(aR):\n",
    "    if(aR>=5.00):\n",
    "        return True"
   ]
  },
  {
   "cell_type": "code",
   "execution_count": 5,
   "metadata": {},
   "outputs": [],
   "source": [
    "def checkSquareRoot(box,prevBox):\n",
    "    if(prevBox[0]<=(box[0]+box[2])<=(prevBox[0]+prevBox[2])):\n",
    "        if(prevBox[1]<=(box[1]+box[3])<=(prevBox[1]+prevBox[3])):\n",
    "            return True"
   ]
  },
  {
   "cell_type": "code",
   "execution_count": 6,
   "metadata": {},
   "outputs": [],
   "source": [
    "def checkExponent(centroid,prevCentroid):\n",
    "    if(centroid[0]>prevCentroid[0]):\n",
    "        if(centroid[1]<prevCentroid[1]-60):\n",
    "            return True"
   ]
  },
  {
   "cell_type": "code",
   "execution_count": 10,
   "metadata": {
    "scrolled": true
   },
   "outputs": [],
   "source": [
    "def reconstructExpression(fileName):\n",
    "    boundingBox = []\n",
    "    centroid = []\n",
    "    finalString = \"\"\n",
    "    carryRoot = False\n",
    "    carryExp = False\n",
    "    charFound = False\n",
    "\n",
    "    i = cs.separateChars(fileName)\n",
    "    \n",
    "    boundingBox = cs.getBoundingBoxes()\n",
    "    centroid = cs.getCentroids()\n",
    "    \n",
    "    #read in brightened image\n",
    "    image = cv2.imread(\"data/bright.png\")\n",
    "    origWidth, origHeight, channels = image.shape\n",
    "\n",
    "    #bubble sort\n",
    "    for passNum in range(0,i):\n",
    "        for c in range(0, i-passNum-1):\n",
    "            if(boundingBox[c][0]>boundingBox[c+1][0]):\n",
    "                temp = boundingBox[c]\n",
    "                boundingBox[c] = boundingBox[c+1]\n",
    "                boundingBox[c+1] = temp\n",
    "                temp2 = centroid[c]\n",
    "                centroid[c] = centroid[c+1]\n",
    "                centroid[c+1] = temp2\n",
    "    \n",
    "    for n in range(0,i): \n",
    "        charFound = False\n",
    "        aspectRatio = (boundingBox[n][2]/boundingBox[n][3])\n",
    "        \n",
    "        #square roots\n",
    "        if(n>0):\n",
    "            if(checkSquareRoot(boundingBox[n],boundingBox[n-1])==True):\n",
    "                finalString = finalString + \"sqrt(\"\n",
    "                charFound = True\n",
    "                carryRoot=True\n",
    "                carryRootBox=n-1\n",
    "                \n",
    "            #exponents\n",
    "            elif(checkExponent(centroid[n],centroid[n-1])==True):\n",
    "                finalString = finalString + \"exp(\"\n",
    "                charFound = True\n",
    "                carryExp=True\n",
    "                carryExpBox=n-1\n",
    "        \n",
    "        #fractions\n",
    "        if(checkFractionBar(aspectRatio)==True):\n",
    "            finalString = finalString + separateFraction(boundingBox[n],origWidth,origHeight,image)\n",
    "            charFound = True\n",
    "            break\n",
    "        \n",
    "        #carry check for roots\n",
    "        if(carryRoot==True and carryExp==False):\n",
    "            if(checkSquareRoot(boundingBox[n],boundingBox[carryRootBox])==True):\n",
    "                finalString = finalString +str(neural.identifyChar(fileName))\n",
    "                if(n==i-1):\n",
    "                    finalString = finalString + \")\"\n",
    "                    carryRoot=False\n",
    "            else:\n",
    "                finalString = finalString + \")\"\n",
    "                carryRoot=False\n",
    "                \n",
    "        #carry check for exponents\n",
    "        if(carryExp==True):\n",
    "            if(checkExponent(centroid[n],centroid[carryExpBox])==True):\n",
    "                finalString = finalString +str(neural.identifyChar(fileName))\n",
    "                if(n==i-1):\n",
    "                    finalString = finalString + \")\"\n",
    "                    carryExp=False\n",
    "            else:\n",
    "                finalString = finalString + \")\"\n",
    "                carryExp=False\n",
    "        \n",
    "        if(charFound == False):\n",
    "            print(fileName)\n",
    "            fileName = \"roi\"+ str(n) +\".png\"\n",
    "            finalString = finalString +str(neural.identifyChar(fileName))\n",
    "            \n",
    "        print(finalString)\n",
    "    return finalString \n"
   ]
  },
  {
   "cell_type": "code",
   "execution_count": 13,
   "metadata": {},
   "outputs": [],
   "source": [
    "def main():\n",
    "    neural.setupNetwork(2025, 550, 11, 0.37, 100)\n",
    "    expression = reconstructExpression(\"num.png\")\n",
    "    print(expression)\n",
    "    cv2.waitKey(0)\n",
    "    "
   ]
  },
  {
   "cell_type": "code",
   "execution_count": 16,
   "metadata": {
    "scrolled": false
   },
   "outputs": [
    {
     "name": "stdout",
     "output_type": "stream",
     "text": [
      "num.png\n",
      "Loading image...\n",
      "Min: 0.01\n",
      "Max: 0.6580155\n",
      "[[4.16621892e-03]\n",
      " [6.52720368e-02]\n",
      " [5.34465184e-02]\n",
      " [1.55247719e-03]\n",
      " [6.18137542e-02]\n",
      " [2.18756146e-04]\n",
      " [3.86794142e-03]\n",
      " [8.53775960e-01]\n",
      " [1.44739697e-02]\n",
      " [8.94544109e-01]\n",
      " [7.41542019e-01]]\n",
      "Predicted value: 6\n",
      "6\n",
      "roi0.png\n",
      "Loading image...\n",
      "Min: 0.01\n",
      "Max: 0.67388237\n",
      "[[6.73747038e-03]\n",
      " [3.47373087e-02]\n",
      " [5.62677460e-01]\n",
      " [5.33051608e-04]\n",
      " [2.50034017e-01]\n",
      " [1.04791094e-01]\n",
      " [1.93336899e-01]\n",
      " [4.40401909e-03]\n",
      " [4.24731788e-01]\n",
      " [4.99483219e-01]\n",
      " [9.29248552e-01]]\n",
      "Predicted value: 3\n",
      "63\n",
      "roi1.png\n",
      "Loading image...\n",
      "Min: 0.01\n",
      "Max: 0.65084696\n",
      "[[0.00260247]\n",
      " [0.06891012]\n",
      " [0.07311007]\n",
      " [0.00374304]\n",
      " [0.11671272]\n",
      " [0.00975448]\n",
      " [0.03250328]\n",
      " [0.00092537]\n",
      " [0.89884019]\n",
      " [0.16419344]\n",
      " [0.91061638]]\n",
      "Predicted value: 3\n",
      "633\n",
      "633\n"
     ]
    },
    {
     "data": {
      "image/png": "[encoded data removed]",
      "text/plain": [
       "<Figure size 432x288 with 1 Axes>"
      ]
     },
     "metadata": {
      "needs_background": "light"
     },
     "output_type": "display_data"
    }
   ],
   "source": [
    "if __name__ == \"__main__\":\n",
    "    main()"
   ]
  },
  {
   "cell_type": "code",
   "execution_count": null,
   "metadata": {},
   "outputs": [],
   "source": []
  },
  {
   "cell_type": "code",
   "execution_count": null,
   "metadata": {},
   "outputs": [],
   "source": []
  }
 ],
 "metadata": {
  "kernelspec": {
   "display_name": "Python 3",
   "language": "python",
   "name": "python3"
  },
  "language_info": {
   "codemirror_mode": {
    "name": "ipython",
    "version": 3
   },
   "file_extension": ".py",
   "mimetype": "text/x-python",
   "name": "python",
   "nbconvert_exporter": "python",
   "pygments_lexer": "ipython3",
   "version": "3.6.8"
  }
 },
 "nbformat": 4,
 "nbformat_minor": 2
}
