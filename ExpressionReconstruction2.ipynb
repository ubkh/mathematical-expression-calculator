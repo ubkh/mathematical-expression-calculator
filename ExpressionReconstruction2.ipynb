{
 "cells": [
  {
   "cell_type": "code",
   "execution_count": 3,
   "metadata": {},
   "outputs": [],
   "source": [
    "import cv2\n",
    "from PIL import Image, ImageEnhance"
   ]
  },
  {
   "cell_type": "code",
   "execution_count": 4,
   "metadata": {
    "scrolled": true
   },
   "outputs": [
    {
     "name": "stdout",
     "output_type": "stream",
     "text": [
      "importing Jupyter notebook from NeuralNetwork4.ipynb\n",
      "importing Jupyter notebook from CharacterSeparation2.ipynb\n"
     ]
    }
   ],
   "source": [
    "import import_ipynb\n",
    "import NeuralNetwork4 as neural\n",
    "import CharacterSeparation2 as cs"
   ]
  },
  {
   "cell_type": "code",
   "execution_count": 5,
   "metadata": {},
   "outputs": [],
   "source": [
    "def separateFraction(box,origWidth,origHeight,image):\n",
    "    x = box[0]\n",
    "    y = box[1]\n",
    "    w = box[2]\n",
    "    h = box[3]\n",
    "    boxH = h\n",
    "        \n",
    "    #denominator\n",
    "    y = y + h\n",
    "    h = origHeight - (origHeight - y)\n",
    "    roi = image[y:y+h, x:x+w]\n",
    "    cv2.imwrite(\"separated/denom.png\", roi)\n",
    "    cv2.imwrite(\"data/denom.png\", roi)\n",
    "    denom = reconstructExpression(\"denom.png\")\n",
    "    \n",
    "    #numerator\n",
    "    h = (origHeight-h) -boxH\n",
    "    y = y - boxH - h\n",
    "    roi = image[y:y+h, x:x+w]\n",
    "    cv2.imwrite(\"separated/num.png\", roi)\n",
    "    cv2.imwrite(\"data/num.png\", roi)\n",
    "    num = reconstructExpression(\"num.png\")\n",
    " \n",
    "    #rest\n",
    "    x = x + w\n",
    "    w = origWidth-x\n",
    "    h = origHeight\n",
    "    roi = image[y:y+h, x:x+w]\n",
    "    cv2.imwrite(\"separated/rest.png\", roi)\n",
    "    cv2.imwrite(\"data/rest.png\", roi)\n",
    "    rest = reconstructExpression(\"rest.png\")\n",
    "    \n",
    "    returnString = \"(\"+num+\"/\"+denom+\")\"+rest\n",
    "\n",
    "    return returnString"
   ]
  },
  {
   "cell_type": "code",
   "execution_count": 6,
   "metadata": {},
   "outputs": [],
   "source": [
    "def checkFractionBar(aR):\n",
    "    if(aR>=5.00):\n",
    "        return True"
   ]
  },
  {
   "cell_type": "code",
   "execution_count": 7,
   "metadata": {},
   "outputs": [],
   "source": [
    "def checkSquareRoot(box,prevBox):\n",
    "    if(prevBox[0]<=(box[0]+box[2])<=(prevBox[0]+prevBox[2])):\n",
    "        if(prevBox[1]<=(box[1]+box[3])<=(prevBox[1]+prevBox[3])):\n",
    "            return True"
   ]
  },
  {
   "cell_type": "code",
   "execution_count": 8,
   "metadata": {},
   "outputs": [],
   "source": [
    "def checkExponent(centroid,prevCentroid):\n",
    "    if(centroid[0]>prevCentroid[0]):\n",
    "        if(centroid[1]<prevCentroid[1]-60):\n",
    "            return True"
   ]
  },
  {
   "cell_type": "code",
   "execution_count": 9,
   "metadata": {
    "scrolled": true
   },
   "outputs": [],
   "source": [
    "def reconstructExpression(originalFile):\n",
    "    boundingBox = []\n",
    "    centroid = []\n",
    "    fileName = []\n",
    "    \n",
    "    finalString = \"\"\n",
    "    carryRoot = False\n",
    "    carryExp = False\n",
    "    charFound = False\n",
    "\n",
    "    i = cs.separateChars(originalFile)\n",
    "    \n",
    "    boundingBox = cs.getBoundingBoxes()\n",
    "    centroid = cs.getCentroids()\n",
    "    fileName = cs.getFilenames()\n",
    "    \n",
    "    #read in brightened image\n",
    "    image = cv2.imread(\"data/bright.png\")\n",
    "    origWidth, origHeight, channels = image.shape\n",
    "    \n",
    "    #bubble sort\n",
    "    for passNum in range(0,i):\n",
    "        for c in range(0, i-passNum-1):\n",
    "            if(boundingBox[c][0]>boundingBox[c+1][0]):\n",
    "                temp = boundingBox[c]\n",
    "                boundingBox[c] = boundingBox[c+1]\n",
    "                boundingBox[c+1] = temp\n",
    "                temp2 = centroid[c]\n",
    "                centroid[c] = centroid[c+1]\n",
    "                centroid[c+1] = temp2\n",
    "                temp3 = fileName[c]\n",
    "                fileName[c] = fileName[c+1]\n",
    "                fileName[c+1] = temp3\n",
    "    \n",
    "    for n in range(0,i):\n",
    "        charFound = False\n",
    "        aspectRatio = (boundingBox[n][2]/boundingBox[n][3])\n",
    "        \n",
    "        #square roots\n",
    "        if(n>0):\n",
    "            if(checkSquareRoot(boundingBox[n],boundingBox[n-1])==True):\n",
    "                finalString = finalString + \"sqrt(\"\n",
    "                charFound = True\n",
    "                carryRoot=True\n",
    "                carryRootBox=n-1\n",
    "                \n",
    "            #exponents\n",
    "            elif(checkExponent(centroid[n],centroid[n-1])==True):\n",
    "                finalString = finalString + \"^(\"\n",
    "                charFound = True\n",
    "                carryExp=True\n",
    "                carryExpBox=n-1\n",
    "        \n",
    "        #fractions\n",
    "        if(checkFractionBar(aspectRatio)==True):\n",
    "            finalString = finalString + separateFraction(boundingBox[n],origWidth,origHeight,image)\n",
    "            charFound = True\n",
    "            break\n",
    "        \n",
    "        #carry check for roots\n",
    "        if(carryRoot==True and carryExp==False):\n",
    "            if(checkSquareRoot(boundingBox[n],boundingBox[carryRootBox])==True):\n",
    "                finalString = finalString +str(neural.identifyChar(fileName))\n",
    "                if(n==i-1):\n",
    "                    finalString = finalString + \")\"\n",
    "                    carryRoot=False\n",
    "            else:\n",
    "                finalString = finalString + \")\"\n",
    "                carryRoot=False\n",
    "                \n",
    "        #carry check for exponents\n",
    "        if(carryExp==True):\n",
    "            if(checkExponent(centroid[n],centroid[carryExpBox])==True):\n",
    "                finalString = finalString +str(neural.identifyChar(fileName))\n",
    "                if(n==i-1):\n",
    "                    finalString = finalString + \")\"\n",
    "                    carryExp=False\n",
    "            else:\n",
    "                finalString = finalString + \")\"\n",
    "                carryExp=False\n",
    "        \n",
    "        if(charFound == False):\n",
    "            finalString = finalString +str(neural.identifyChar(fileName[n]))\n",
    "            \n",
    "        print(finalString)\n",
    "    return finalString \n"
   ]
  },
  {
   "cell_type": "code",
   "execution_count": 10,
   "metadata": {},
   "outputs": [],
   "source": [
    "#def main():\n",
    " #   neural.setupNetwork(2025, 550, 11, 0.37, 100)\n",
    "       #expression = reconstructExpression(\"num.png\")\n",
    "    #print(expression)\n",
    "    #cv2.waitKey(0)\n",
    "    "
   ]
  },
  {
   "cell_type": "code",
   "execution_count": 11,
   "metadata": {
    "scrolled": false
   },
   "outputs": [],
   "source": [
    "#if __name__ == \"__main__\":\n",
    " #   main()"
   ]
  },
  {
   "cell_type": "code",
   "execution_count": null,
   "metadata": {},
   "outputs": [],
   "source": []
  },
  {
   "cell_type": "code",
   "execution_count": null,
   "metadata": {},
   "outputs": [],
   "source": []
  }
 ],
 "metadata": {
  "kernelspec": {
   "display_name": "Python 3",
   "language": "python",
   "name": "python3"
  },
  "language_info": {
   "codemirror_mode": {
    "name": "ipython",
    "version": 3
   },
   "file_extension": ".py",
   "mimetype": "text/x-python",
   "name": "python",
   "nbconvert_exporter": "python",
   "pygments_lexer": "ipython3",
   "version": "3.6.8"
  }
 },
 "nbformat": 4,
 "nbformat_minor": 2
}
