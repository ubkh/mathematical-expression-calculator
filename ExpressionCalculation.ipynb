{
 "cells": [
  {
   "cell_type": "code",
   "execution_count": 11,
   "metadata": {},
   "outputs": [],
   "source": [
    "from sympy import * #inefficent imports!"
   ]
  },
  {
   "cell_type": "code",
   "execution_count": 12,
   "metadata": {},
   "outputs": [],
   "source": [
    "class Sub(Function):\n",
    "    \n",
    "    @classmethod\n",
    "    def eval(cls, l, r):\n",
    "        r = -r\n",
    "        #solution = \"Add(\"+ str(l) +\",\"+ str(r) +\")\"\n",
    "        solution = Add(l,r)\n",
    "        return solution"
   ]
  },
  {
   "cell_type": "code",
   "execution_count": 13,
   "metadata": {},
   "outputs": [],
   "source": [
    "class Div(Function):\n",
    "    \n",
    "    @classmethod\n",
    "    def eval(cls, l, r):\n",
    "        solution = Mul(l, Pow(r, Integer(-1)))\n",
    "        return solution"
   ]
  },
  {
   "cell_type": "code",
   "execution_count": 14,
   "metadata": {},
   "outputs": [],
   "source": [
    "x = Symbol('x', real=True)\n",
    "y = Symbol('y', real=True)\n",
    "a = Symbol('a', real=True)\n",
    "b = Symbol('b', real=True)"
   ]
  },
  {
   "cell_type": "code",
   "execution_count": 28,
   "metadata": {},
   "outputs": [],
   "source": [
    "def Solve(expression, solveFor):\n",
    "    #expression = expression.evalf()\n",
    "    print(expression)\n",
    "    solveset(expression, solveFor)\n",
    "    #solve(expression)"
   ]
  },
  {
   "cell_type": "code",
   "execution_count": 53,
   "metadata": {},
   "outputs": [],
   "source": [
    "def Eval(expression):\n",
    "    expression = sympify(expression, evaluate=False)\n",
    "    #print(expression)\n",
    "    #solveset(expression, solveFor)\n",
    "    print(expression.evalf())"
   ]
  },
  {
   "cell_type": "code",
   "execution_count": 57,
   "metadata": {},
   "outputs": [
    {
     "name": "stdout",
     "output_type": "stream",
     "text": [
      "Div(sin(7), sin(30))\n"
     ]
    }
   ],
   "source": [
    "#Mul(x, Pow(y, Integer(-1)))\n",
    "#Sub(x,y)\n",
    "#expr = Div(Mul(4,x),Mul(9,y))\n",
    "#expr = Add(Pow(x,2),4)\n",
    "#expr = Add(Pow(x,2),Mul(4,x))\n",
    "#expr = Pow(Mul(sin(Mul(4,x))),2)\n",
    "#print(expr)\n",
    "#solveset(expr,x)\n",
    "#expr = Mul(sqrt(Mul(sqrt(Mul(tan(Mul(Div(Mul(-3,sin(25)),cos(20)),sin(Div(10,2)))))))))\n",
    "#expr = Add(Add(Mul(3,Pow(x,2)),Mul(6,x)),4)\n",
    "#print(expr)\n",
    "#solveset(expr,x)\n",
    "#Calc(\"5+4\")\n",
    "#(Add(4,5)).evalf()\n",
    "#sin(30).evalf()\n",
    "#print(sympify(\"Div(sin(7), sin(30))\").evalf())"
   ]
  },
  {
   "cell_type": "code",
   "execution_count": null,
   "metadata": {},
   "outputs": [],
   "source": []
  },
  {
   "cell_type": "code",
   "execution_count": null,
   "metadata": {},
   "outputs": [],
   "source": []
  }
 ],
 "metadata": {
  "kernelspec": {
   "display_name": "Python 3",
   "language": "python",
   "name": "python3"
  },
  "language_info": {
   "codemirror_mode": {
    "name": "ipython",
    "version": 3
   },
   "file_extension": ".py",
   "mimetype": "text/x-python",
   "name": "python",
   "nbconvert_exporter": "python",
   "pygments_lexer": "ipython3",
   "version": "3.6.8"
  }
 },
 "nbformat": 4,
 "nbformat_minor": 2
}
