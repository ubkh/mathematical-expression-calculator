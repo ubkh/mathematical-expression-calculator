{
 "cells": [
  {
   "cell_type": "code",
   "execution_count": 2,
   "metadata": {},
   "outputs": [],
   "source": [
    "import numpy as np\n"
   ]
  },
  {
   "cell_type": "code",
   "execution_count": 19,
   "metadata": {},
   "outputs": [],
   "source": [
    "class NeuralNetwork:\n",
    "    \n",
    "    def __init__(self, givenINodes, givenHNodes, givenONodes, givenLearningRate):\n",
    "        self.inputNodes = givenINodes\n",
    "        self.hiddenNodes = givenHNodes\n",
    "        self.outputNodes = givenONodes\n",
    "        \n",
    "        self.weightsInputHidden = np.random.normal(0.0, pow(self.inputNodes, -0.5), (self.hiddenNodes, self.inputNodes))\n",
    "        self.weightsHiddenOutput = np.random.normal(0.0, pow(self.hiddenNodes, -0.5), (self.outputNodes, self.hiddenNodes))\n",
    "        \n",
    "        self.learningRate = givenLearningRate\n",
    "        \n",
    "        self.activationFunc = lambda x: self.sigmoid(x)\n",
    "            \n",
    "        pass\n",
    "            \n",
    "    def sigmoid(self, Z):\n",
    "        A = 1 / (1 + np.exp(-Z))\n",
    "        return A\n",
    "        \n",
    "    def train(self, givenInputs, givenTargets):\n",
    "        inputs = np.array(givenInputs, ndmin=2).T\n",
    "        targets = np.array(givenTargets, ndmin=2).T\n",
    "        \n",
    "        hiddenInputs = np.dot(self.weightsInputHidden, inputs)\n",
    "        hiddenOutputs = self.activationFunc(hiddenInputs)\n",
    "        \n",
    "        finalInputs = np.dot(self.weightsHiddenOutput, hiddenOutputs)\n",
    "        finalOutputs = self.activationFunc(finalInputs)\n",
    "        \n",
    "        outputErrors = targets - finalOutputs\n",
    "        hiddenErrors = np.dot(self.weightsHiddenOutput.T, outputErrors)\n",
    "        \n",
    "        self.weightsHiddenOutput += self.learningRate * np.dot((outputErrors * finalOutputs * (1.0 - finalOutputs)), np.transpose(hiddenOutputs))\n",
    "        self.weightsInputHidden += self.learningRate * np.dot((hiddenErrors * hiddenOutputs * (1.0 - hiddenOutputs)), np.transpose(inputs))\n",
    "        \n",
    "        pass\n",
    "    \n",
    "    def query(self, givenInputs):\n",
    "        inputs = np.array(givenInputs, ndmin=2).T\n",
    "        \n",
    "        hiddenInputs = np.dot(self.weightsInputHidden, inputs)\n",
    "        hiddenOutputs = self.activationFunc(hiddenInputs)\n",
    "        \n",
    "        finalInputs = np.dot(self.weightsHiddenOutput, hiddenOutputs)\n",
    "        finalOutputs = self.activationFunc(finalInputs)\n",
    "        \n",
    "        return finalOutputs\n",
    "    \n",
    "        "
   ]
  },
  {
   "cell_type": "code",
   "execution_count": 23,
   "metadata": {},
   "outputs": [],
   "source": [
    "inputNodes = 3\n",
    "hiddenNodes = 3\n",
    "outputNodes = 3\n",
    "\n",
    "learningRate = 0.3\n",
    "\n",
    "n = NeuralNetwork(inputNodes, hiddenNodes, outputNodes, learningRate)"
   ]
  },
  {
   "cell_type": "code",
   "execution_count": 24,
   "metadata": {},
   "outputs": [
    {
     "data": {
      "text/plain": [
       "array([[0.56025192],\n",
       "       [0.83778839],\n",
       "       [0.39872534]])"
      ]
     },
     "execution_count": 24,
     "metadata": {},
     "output_type": "execute_result"
    }
   ],
   "source": [
    "n.query([1.0, 0.5, -1.5])"
   ]
  },
  {
   "cell_type": "code",
   "execution_count": null,
   "metadata": {},
   "outputs": [],
   "source": []
  }
 ],
 "metadata": {
  "kernelspec": {
   "display_name": "Python 3",
   "language": "python",
   "name": "python3"
  },
  "language_info": {
   "codemirror_mode": {
    "name": "ipython",
    "version": 3
   },
   "file_extension": ".py",
   "mimetype": "text/x-python",
   "name": "python",
   "nbconvert_exporter": "python",
   "pygments_lexer": "ipython3",
   "version": "3.6.8"
  }
 },
 "nbformat": 4,
 "nbformat_minor": 2
}
