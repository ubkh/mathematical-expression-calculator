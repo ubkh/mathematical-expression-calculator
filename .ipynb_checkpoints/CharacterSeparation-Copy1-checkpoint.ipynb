{
 "cells": [
  {
   "cell_type": "code",
   "execution_count": 1,
   "metadata": {},
   "outputs": [],
   "source": [
    "#import necessary libraries\n",
    "import cv2"
   ]
  },
  {
   "cell_type": "code",
   "execution_count": 2,
   "metadata": {},
   "outputs": [],
   "source": [
    "# read the image\n",
    "image = cv2.imread(\"data/IMAGETEST3.jpg\")\n",
    "    "
   ]
  },
  {
   "cell_type": "code",
   "execution_count": 3,
   "metadata": {},
   "outputs": [],
   "source": [
    "# apply greyscale filter onto image\n",
    "image_grey = cv2.cvtColor(image, cv2.COLOR_BGR2GRAY)\n",
    "# apply a blur to remove noise from the image\n",
    "image_grey = cv2.GaussianBlur(image_grey, (7, 7), 0)\n",
    "\n",
    "# threshold image to inverted binary - black and white only\n",
    "ret, thresh1 = cv2.threshold(image_grey ,127,255,cv2.THRESH_BINARY_INV)\n",
    "# dilate image to make white portions thicker\n",
    "image_dilate = cv2.dilate(thresh1, None, iterations=2)"
   ]
  },
  {
   "cell_type": "code",
   "execution_count": 5,
   "metadata": {},
   "outputs": [],
   "source": [
    "# find ALL contours in the image\n",
    "contours = cv2.findContours(image_dilate.copy(), cv2.RETR_EXTERNAL, \n",
    "            cv2.CHAIN_APPROX_SIMPLE)\n",
    "contours = contours[0] if len(contours) == 2 else contours[1]\n",
    "\n",
    "original = image.copy()\n",
    "i = 0\n",
    "\n",
    "for contour in contours:\n",
    "    # if contour area is too small, ignore it\n",
    "    if(cv2.contourArea(contour) < 10000):\n",
    "        continue\n",
    "    \n",
    "    # bounding rectangles placed on all contours detected\n",
    "    x,y,w,h = cv2.boundingRect(contour)\n",
    "    \n",
    "    # region of interest taken from contour - we are interested in the \n",
    "    # contents of the rectangle only\n",
    "    roi = image[y:y+h, x:x+w]\n",
    "    \n",
    "    #save the contents of each rectangle as a separate PNG image\n",
    "    cv2.imwrite(\"roi\"+ str(i) + \".png\", roi)\n",
    "    \n",
    "    i = i + 1"
   ]
  },
  {
   "cell_type": "code",
   "execution_count": null,
   "metadata": {},
   "outputs": [],
   "source": [
    "cv2.waitKey(0)"
   ]
  }
 ],
 "metadata": {
  "kernelspec": {
   "display_name": "Python 3",
   "language": "python",
   "name": "python3"
  },
  "language_info": {
   "codemirror_mode": {
    "name": "ipython",
    "version": 3
   },
   "file_extension": ".py",
   "mimetype": "text/x-python",
   "name": "python",
   "nbconvert_exporter": "python",
   "pygments_lexer": "ipython3",
   "version": "3.6.8"
  }
 },
 "nbformat": 4,
 "nbformat_minor": 2
}
