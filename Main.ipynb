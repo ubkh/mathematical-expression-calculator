{
 "cells": [
  {
   "cell_type": "code",
   "execution_count": null,
   "metadata": {},
   "outputs": [],
   "source": [
    "#TODO: implement orientation checking for images\n",
    "#TODO: test using performance vs epoch graphs etc\n",
    "#TODO: implement dimension checking for images BEFORE image enhancements\n",
    "#used."
   ]
  },
  {
   "cell_type": "code",
   "execution_count": null,
   "metadata": {},
   "outputs": [],
   "source": [
    "\"\"\"\n",
    "\n",
    "This file forms part of MathematicalExpressionCalculator and is licensed\n",
    "under the MIT license (MIT), which can be found below.\n",
    "\n",
    "Copyright (c) 2020 Ubayd Khan \n",
    "\n",
    "Permission is hereby granted, free of charge, to any person obtaining a \n",
    "copy of this software and associated documentation files (the \"Software\"), \n",
    "to deal in the Software without restriction, including without limitation \n",
    "the rights to use, copy, modify, merge, publish, distribute, sublicense, \n",
    "and/or sell copies of the Software, and to permit persons to whom the \n",
    "Software is furnished to do so, subject to the following conditions:\n",
    "\n",
    "The above copyright notice and this permission notice shall be included in \n",
    "all copies or substantial portions of the Software.\n",
    "\n",
    "THE SOFTWARE IS PROVIDED \"AS IS\", WITHOUT WARRANTY OF ANY KIND, EXPRESS OR \n",
    "IMPLIED, INCLUDING BUT NOT LIMITED TO THE WARRANTIES OF MERCHANTABILITY, \n",
    "FITNESS FOR A PARTICULAR PURPOSE AND NONINFRINGEMENT. IN NO EVENT SHALL THE \n",
    "AUTHORS OR COPYRIGHT HOLDERS BE LIABLE FOR ANY CLAIM, DAMAGES OR OTHER \n",
    "LIABILITY, WHETHER IN AN ACTION OF CONTRACT, TORT OR OTHERWISE, ARISING \n",
    "FROM, OUT OF OR IN CONNECTION WITH THE SOFTWARE OR THE USE OR OTHER \n",
    "DEALINGS IN THE SOFTWARE.\n",
    "\n",
    "\"\"\""
   ]
  },
  {
   "cell_type": "code",
   "execution_count": 1,
   "metadata": {},
   "outputs": [
    {
     "name": "stdout",
     "output_type": "stream",
     "text": [
      "importing Jupyter notebook from NeuralNetwork4.ipynb\n",
      "importing Jupyter notebook from ExpressionReconstruction2.ipynb\n",
      "importing Jupyter notebook from CharacterSeparation2.ipynb\n",
      "importing Jupyter notebook from LexicalAnalysis.ipynb\n",
      "importing Jupyter notebook from SemanticAnalysis3.ipynb\n",
      "importing Jupyter notebook from ExpressionCalculation.ipynb\n"
     ]
    }
   ],
   "source": [
    "import import_ipynb\n",
    "import NeuralNetwork4 as neural\n",
    "import ExpressionReconstruction2 as er\n",
    "import LexicalAnalysis as la\n",
    "import SemanticAnalysis3 as sa\n",
    "import ExpressionCalculation as ec\n",
    "from sympy import Symbol"
   ]
  },
  {
   "cell_type": "code",
   "execution_count": 2,
   "metadata": {},
   "outputs": [
    {
     "name": "stdout",
     "output_type": "stream",
     "text": [
      "Neural network set up.\n"
     ]
    }
   ],
   "source": [
    "neural.setupNetwork(2025, 550, 10, 0.70, 100)"
   ]
  },
  {
   "cell_type": "code",
   "execution_count": 3,
   "metadata": {},
   "outputs": [],
   "source": [
    "x = Symbol('x', real=True)\n",
    "y = Symbol('y', real=True)\n",
    "a = Symbol('a', real=True)\n",
    "b = Symbol('b', real=True)"
   ]
  },
  {
   "cell_type": "code",
   "execution_count": 4,
   "metadata": {},
   "outputs": [
    {
     "name": "stdout",
     "output_type": "stream",
     "text": [
      "Loading image...\n",
      "Min: 0.01\n",
      "Max: 0.7530393\n",
      "Predicted value: 4\n",
      "4\n",
      "Loading image...\n",
      "Min: 0.0099998815\n",
      "Max: 0.71667445\n",
      "Predicted value: 4\n",
      "44\n",
      "<LexicalAnalysis.Token object at 0x7f65106cea90>\n",
      "Literal\n",
      "44\n",
      "1 tokens.\n",
      "44\n",
      "!\n",
      "44.0000000000000\n"
     ]
    },
    {
     "data": {
      "image/png": "[encoded data removed]",
      "text/plain": [
       "<Figure size 432x288 with 1 Axes>"
      ]
     },
     "metadata": {
      "needs_background": "light"
     },
     "output_type": "display_data"
    }
   ],
   "source": [
    "expression = er.reconstructExpression(\"D.png\")\n",
    "\n",
    "#expression = \"sin(7)/sin(30)\"\n",
    "\n",
    "tokens = la.Tokenise(expression)\n",
    "a = sa.Parse(expression, tokens)\n",
    "\n",
    "expressionSolve = a.printString()\n",
    "print(expression)\n",
    "\n",
    "sa.hasVars(tokens)\n",
    "\n",
    "if(sa.hasVars(tokens) == True):\n",
    "    ec.Solve(expressionSolve,x)\n",
    "else:\n",
    "    print(\"!\")\n",
    "    ec.Eval(expression)\n",
    "    \n",
    "#xpression = a.printString()\n",
    "#rint(expression)\n",
    "\n",
    "#c.Calc(\"5+4\")"
   ]
  },
  {
   "cell_type": "code",
   "execution_count": null,
   "metadata": {},
   "outputs": [],
   "source": []
  }
 ],
 "metadata": {
  "kernelspec": {
   "display_name": "Python 3",
   "language": "python",
   "name": "python3"
  },
  "language_info": {
   "codemirror_mode": {
    "name": "ipython",
    "version": 3
   },
   "file_extension": ".py",
   "mimetype": "text/x-python",
   "name": "python",
   "nbconvert_exporter": "python",
   "pygments_lexer": "ipython3",
   "version": "3.6.8"
  }
 },
 "nbformat": 4,
 "nbformat_minor": 2
}
