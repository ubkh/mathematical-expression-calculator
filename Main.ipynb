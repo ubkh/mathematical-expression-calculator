{
 "cells": [
  {
   "cell_type": "code",
   "execution_count": 1,
   "metadata": {},
   "outputs": [
    {
     "name": "stdout",
     "output_type": "stream",
     "text": [
      "importing Jupyter notebook from NeuralNetwork4.ipynb\n",
      "importing Jupyter notebook from ExpressionReconstruction2.ipynb\n",
      "importing Jupyter notebook from CharacterSeparation2.ipynb\n",
      "importing Jupyter notebook from LexicalAnalysis.ipynb\n",
      "importing Jupyter notebook from SemanticAnalysis3.ipynb\n",
      "importing Jupyter notebook from ExpressionCalculation.ipynb\n"
     ]
    }
   ],
   "source": [
    "import import_ipynb\n",
    "import NeuralNetwork4 as neural\n",
    "import ExpressionReconstruction2 as er\n",
    "import LexicalAnalysis as la\n",
    "import SemanticAnalysis3 as sa\n",
    "import ExpressionCalculation as ec\n",
    "from sympy import Symbol"
   ]
  },
  {
   "cell_type": "code",
   "execution_count": 2,
   "metadata": {},
   "outputs": [
    {
     "ename": "KeyboardInterrupt",
     "evalue": "",
     "output_type": "error",
     "traceback": [
      "\u001b[0;31m---------------------------------------------------------------------------\u001b[0m",
      "\u001b[0;31mKeyboardInterrupt\u001b[0m                         Traceback (most recent call last)",
      "\u001b[0;32m<ipython-input-2-4255d8c437a9>\u001b[0m in \u001b[0;36m<module>\u001b[0;34m\u001b[0m\n\u001b[0;32m----> 1\u001b[0;31m \u001b[0mneural\u001b[0m\u001b[0;34m.\u001b[0m\u001b[0msetupNetwork\u001b[0m\u001b[0;34m(\u001b[0m\u001b[0;36m2025\u001b[0m\u001b[0;34m,\u001b[0m \u001b[0;36m550\u001b[0m\u001b[0;34m,\u001b[0m \u001b[0;36m11\u001b[0m\u001b[0;34m,\u001b[0m \u001b[0;36m0.37\u001b[0m\u001b[0;34m,\u001b[0m \u001b[0;36m100\u001b[0m\u001b[0;34m)\u001b[0m\u001b[0;34m\u001b[0m\u001b[0;34m\u001b[0m\u001b[0m\n\u001b[0m",
      "\u001b[0;32m~/Documents/NeuralNetwork4.ipynb\u001b[0m in \u001b[0;36msetupNetwork\u001b[0;34m(givenINodes, givenHNodes, givenONodes, givenLRate, givenSampleSize)\u001b[0m\n",
      "\u001b[0;32m~/Documents/NeuralNetwork4.ipynb\u001b[0m in \u001b[0;36mtrain\u001b[0;34m(self, givenInputs, givenTargets)\u001b[0m\n",
      "\u001b[0;32m<__array_function__ internals>\u001b[0m in \u001b[0;36mdot\u001b[0;34m(*args, **kwargs)\u001b[0m\n",
      "\u001b[0;31mKeyboardInterrupt\u001b[0m: "
     ]
    }
   ],
   "source": [
    "neural.setupNetwork(2025, 550, 11, 0.37, 100)"
   ]
  },
  {
   "cell_type": "code",
   "execution_count": 2,
   "metadata": {},
   "outputs": [],
   "source": [
    "x = Symbol('x', real=True)\n",
    "y = Symbol('y', real=True)\n",
    "a = Symbol('a', real=True)\n",
    "b = Symbol('b', real=True)"
   ]
  },
  {
   "cell_type": "code",
   "execution_count": 3,
   "metadata": {},
   "outputs": [
    {
     "name": "stdout",
     "output_type": "stream",
     "text": [
      "<LexicalAnalysis.Token object at 0x7f295b14d780>\n",
      "Function\n",
      "sin\n",
      "<LexicalAnalysis.Token object at 0x7f295b14d7b8>\n",
      "Left Parenthesis\n",
      "(\n",
      "<LexicalAnalysis.Token object at 0x7f295b14d5f8>\n",
      "Literal\n",
      "7\n",
      "<LexicalAnalysis.Token object at 0x7f295b14dc50>\n",
      "Right Parenthesis\n",
      ")\n",
      "<LexicalAnalysis.Token object at 0x7f295b14da58>\n",
      "Operator\n",
      "/\n",
      "<LexicalAnalysis.Token object at 0x7f295af62a20>\n",
      "Function\n",
      "sin\n",
      "<LexicalAnalysis.Token object at 0x7f295af62a90>\n",
      "Left Parenthesis\n",
      "(\n",
      "<LexicalAnalysis.Token object at 0x7f295af62b00>\n",
      "Literal\n",
      "30\n",
      "<LexicalAnalysis.Token object at 0x7f295af62b38>\n",
      "Right Parenthesis\n",
      ")\n",
      "9 tokens.\n",
      "sin(7)/sin(30)\n",
      "!\n",
      "-0.664944909351445\n"
     ]
    }
   ],
   "source": [
    "#neural.setupNetwork(2025, 550, 11, 0.37, 100)\n",
    "#xpression = er.reconstructExpression(\"num5.png\")\n",
    "\n",
    "expression = \"sin(7)/sin(30)\"\n",
    "\n",
    "tokens = la.Tokenise(expression)\n",
    "a = sa.Parse(expression, tokens)\n",
    "\n",
    "expressionSolve = a.printString()\n",
    "print(expression)\n",
    "\n",
    "sa.hasVars(tokens)\n",
    "\n",
    "if(sa.hasVars(tokens) == True):\n",
    "    ec.Solve(expressionSolve,x)\n",
    "else:\n",
    "    print(\"!\")\n",
    "    ec.Eval(expression)\n",
    "    \n",
    "#xpression = a.printString()\n",
    "#rint(expression)\n",
    "\n",
    "#c.Calc(\"5+4\")"
   ]
  },
  {
   "cell_type": "code",
   "execution_count": null,
   "metadata": {},
   "outputs": [],
   "source": []
  }
 ],
 "metadata": {
  "kernelspec": {
   "display_name": "Python 3",
   "language": "python",
   "name": "python3"
  },
  "language_info": {
   "codemirror_mode": {
    "name": "ipython",
    "version": 3
   },
   "file_extension": ".py",
   "mimetype": "text/x-python",
   "name": "python",
   "nbconvert_exporter": "python",
   "pygments_lexer": "ipython3",
   "version": "3.6.8"
  }
 },
 "nbformat": 4,
 "nbformat_minor": 2
}
