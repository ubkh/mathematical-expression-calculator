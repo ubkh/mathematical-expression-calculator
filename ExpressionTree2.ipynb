{
 "cells": [
  {
   "cell_type": "code",
   "execution_count": 21,
   "metadata": {},
   "outputs": [],
   "source": [
    "from sys import stdout, modules\n",
    "from math import inf\n",
    "import re"
   ]
  },
  {
   "cell_type": "code",
   "execution_count": 22,
   "metadata": {},
   "outputs": [],
   "source": [
    "class Token:\n",
    "    def __init__(self, type, value):\n",
    "        self.type = type\n",
    "        self.value = value"
   ]
  },
  {
   "cell_type": "code",
   "execution_count": 23,
   "metadata": {},
   "outputs": [],
   "source": [
    "\n",
    "class Stack:\n",
    "    '''Data structure for a Stack (LIFO)'''\n",
    "\n",
    "    def __init__(self, another=None):\n",
    "        self.list = []\n",
    "        if another:\n",
    "            self.list = another.list\n",
    "\n",
    "    def push(self, val):\n",
    "        self.list.append(val)\n",
    "\n",
    "    def pop(self):\n",
    "        return self.list.pop() if self.list else None\n",
    "\n",
    "    def peek(self):\n",
    "        return self.list[-1] if self.list else None\n",
    "\n",
    "    def isEmpty(self):\n",
    "        return False if self.list else True\n",
    "\n",
    "    def size(self):\n",
    "        return len(self.list)\n",
    "\n",
    "    def display(self):\n",
    "        print(self.list)"
   ]
  },
  {
   "cell_type": "code",
   "execution_count": 27,
   "metadata": {},
   "outputs": [],
   "source": [
    "def isComma(char):\n",
    "    #print(char)\n",
    "    return char == \",\"\n",
    "\n",
    "def isDigit(char):\n",
    "    pattern = re.compile(\"\\d+(\\.\\d*)?\")\n",
    "    if(pattern.match(char)):\n",
    "        #print(char)\n",
    "        return True\n",
    "\n",
    "def isLetter(char):\n",
    "    pattern = re.compile(\"[a-zA-Z]\")\n",
    "    if(pattern.match(char)):\n",
    "        #print(char)\n",
    "        return True\n",
    "\n",
    "def isOperator(char):\n",
    "    pattern = re.compile(\"[+\\-\\*\\/]\")\n",
    "    if(pattern.match(char)):\n",
    "        #print(char)\n",
    "        return True\n",
    "\n",
    "def isLeftParenthesis(char):\n",
    "    #print(char)\n",
    "    return char == \"(\"\n",
    "\n",
    "def isRightParenthesis(char):\n",
    "    #print(char)\n",
    "    return char == \")\""
   ]
  },
  {
   "cell_type": "code",
   "execution_count": 28,
   "metadata": {},
   "outputs": [],
   "source": [
    "def Tokenise(str):\n",
    "    result = Stack()\n",
    "    \n",
    "    #remove all whitespace\n",
    "    str.replace(\" \", \"\")\n",
    "    str = ''.join(str.split())\n",
    "    \n",
    "    #convert string into array of chars\n",
    "    str = list(str)\n",
    "    print(str)\n",
    "    for char in str:\n",
    "        if(isDigit(char)):\n",
    "            print(char)\n",
    "            result.push(Token(\"Literal\", char))\n",
    "        elif(isLetter(char)):\n",
    "            print(char)\n",
    "            result.push(Token(\"Variable\", char))\n",
    "        elif(isOperator(char)):\n",
    "            print(char)\n",
    "            result.push(Token(\"Operator\", char))\n",
    "        elif(isLeftParenthesis(char)):\n",
    "            print(char)\n",
    "            result.push(Token(\"Left Parenthesis\", char))\n",
    "        elif(isRightParenthesis(char)):\n",
    "            print(char)\n",
    "            result.push(Token(\"Right Parenthesis\", char))\n",
    "        elif(isComma(char)):\n",
    "            print(char)\n",
    "            result.push(Token(\"Function Argument Separator\", char))\n",
    "    \n",
    "    #currently only displays list of token objects\n",
    "    return result.display()"
   ]
  },
  {
   "cell_type": "code",
   "execution_count": 34,
   "metadata": {},
   "outputs": [
    {
     "name": "stdout",
     "output_type": "stream",
     "text": [
      "['1', '0', 'a', '+', '8', '9', 'y', '=', '1', '6']\n",
      "1\n",
      "0\n",
      "a\n",
      "+\n",
      "8\n",
      "9\n",
      "y\n",
      "1\n",
      "6\n",
      "[<__main__.Token object at 0x7f6dac707160>, <__main__.Token object at 0x7f6dac707a90>, <__main__.Token object at 0x7f6dac707b38>, <__main__.Token object at 0x7f6dac707390>, <__main__.Token object at 0x7f6dac707080>, <__main__.Token object at 0x7f6dac707f28>, <__main__.Token object at 0x7f6dac707908>, <__main__.Token object at 0x7f6dac707c50>, <__main__.Token object at 0x7f6dac707eb8>]\n"
     ]
    }
   ],
   "source": [
    "Tokenise(\"10a+89y=16\")"
   ]
  },
  {
   "cell_type": "code",
   "execution_count": null,
   "metadata": {},
   "outputs": [],
   "source": []
  }
 ],
 "metadata": {
  "kernelspec": {
   "display_name": "Python 3",
   "language": "python",
   "name": "python3"
  },
  "language_info": {
   "codemirror_mode": {
    "name": "ipython",
    "version": 3
   },
   "file_extension": ".py",
   "mimetype": "text/x-python",
   "name": "python",
   "nbconvert_exporter": "python",
   "pygments_lexer": "ipython3",
   "version": "3.6.8"
  }
 },
 "nbformat": 4,
 "nbformat_minor": 2
}
