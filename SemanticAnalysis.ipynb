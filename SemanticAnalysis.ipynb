{
 "cells": [
  {
   "cell_type": "code",
   "execution_count": null,
   "metadata": {},
   "outputs": [],
   "source": []
  },
  {
   "cell_type": "code",
   "execution_count": null,
   "metadata": {},
   "outputs": [],
   "source": [
    "outQueue = []\n",
    "opStack = []\n",
    "\n",
    "ASSOCIATIVITY = {\n",
    "    '^' : \"right\", # raise\n",
    "    '*' : \"left\", # multiply\n",
    "    '/' : \"left\", # divide\n",
    "    '+' : \"left\", # add\n",
    "    '-' : \"left\"  # subtract\n",
    "}\n",
    "\n",
    "PRECEDENCE = {\n",
    "    '^' : 4, # raise\n",
    "    '*' : 3, # multiply\n",
    "    '/' : 3, # divide\n",
    "    '+' : 2, # add\n",
    "    '-' : 2  # subtract\n",
    "}\n"
   ]
  },
  {
   "cell_type": "code",
   "execution_count": null,
   "metadata": {},
   "outputs": [],
   "source": [
    "class Stack:\n",
    "    '''Data structure for a Stack (LIFO)'''\n",
    "\n",
    "    def __init__(self, another=None):\n",
    "        self.list = []\n",
    "        if another:\n",
    "            self.list = another.list\n",
    "\n",
    "    def push(self, val):\n",
    "        self.list.append(val)\n",
    "\n",
    "    def pop(self):\n",
    "        return self.list.pop() if self.list else None\n",
    "\n",
    "    def peek(self):\n",
    "        return self.list[-1] if self.list else None\n",
    "\n",
    "    def isEmpty(self):\n",
    "        return False if self.list else True\n",
    "\n",
    "    def size(self):\n",
    "        return len(self.list)\n",
    "\n",
    "    def display(self):\n",
    "        #print(self.list)\n",
    "        #prints list elements on each line rather than whole list at once\n",
    "        for element in range(0,len(self.list)):\n",
    "            print(self.list[element])\n",
    "            print(self.list[element].type)\n",
    "            print(self.list[element].value)"
   ]
  },
  {
   "cell_type": "code",
   "execution_count": null,
   "metadata": {},
   "outputs": [],
   "source": [
    "def Parse():\n",
    "    tokens =\n",
    "    for t in tokens:\n",
    "        if(t.type == \"Literal\" or t.type == \"Variable\"):\n",
    "            outQueue.append(t)\n",
    "        elif(t.type == \"Function\"):\n",
    "            opStack.append(t)\n",
    "        elif(t.type == \"Operator\"):\n",
    "            while"
   ]
  }
 ],
 "metadata": {
  "kernelspec": {
   "display_name": "Python 3",
   "language": "python",
   "name": "python3"
  },
  "language_info": {
   "codemirror_mode": {
    "name": "ipython",
    "version": 3
   },
   "file_extension": ".py",
   "mimetype": "text/x-python",
   "name": "python",
   "nbconvert_exporter": "python",
   "pygments_lexer": "ipython3",
   "version": "3.6.8"
  }
 },
 "nbformat": 4,
 "nbformat_minor": 2
}
