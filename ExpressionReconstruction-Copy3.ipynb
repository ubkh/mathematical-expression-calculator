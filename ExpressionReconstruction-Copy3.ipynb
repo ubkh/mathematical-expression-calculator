{
 "cells": [
  {
   "cell_type": "code",
   "execution_count": null,
   "metadata": {},
   "outputs": [],
   "source": [
    "#COPYRIGHT UBAYD KHAN 2020. All rights reserved in accordance with the\n",
    "#following four-clause BSD license."
   ]
  },
  {
   "cell_type": "code",
   "execution_count": null,
   "metadata": {},
   "outputs": [],
   "source": [
    "#Redistribution and use in source and binary forms, with or without\n",
    "#modification, are permitted provided that the following conditions are met:\n",
    "#1. Redistributions of source code must retain the above copyright\n",
    "#   notice, this list of conditions and the following disclaimer.\n",
    "#2. Redistributions in binary form must reproduce the above copyright\n",
    "#   notice, this list of conditions and the following disclaimer in the\n",
    "#   documentation and/or other materials provided with the distribution.\n",
    "#3. All advertising materials mentioning features or use of this software\n",
    "#   must display the following acknowledgement:\n",
    "#   This product includes software developed by the <organization>.\n",
    "#4. Neither the name of the Ubayd Khan nor the\n",
    "#   names of its contributors may be used to endorse or promote products\n",
    "#   derived from this software without specific prior written permission.\n",
    "#\n",
    "#THIS SOFTWARE IS PROVIDED BY UBAYD KHAN ''AS IS'' AND ANY\n",
    "#EXPRESS OR IMPLIED WARRANTIES, INCLUDING, BUT NOT LIMITED TO, THE IMPLIED\n",
    "#WARRANTIES OF MERCHANTABILITY AND FITNESS FOR A PARTICULAR PURPOSE ARE\n",
    "#DISCLAIMED. IN NO EVENT SHALL UBAYD KHAN BE LIABLE FOR ANY\n",
    "#DIRECT, INDIRECT, INCIDENTAL, SPECIAL, EXEMPLARY, OR CONSEQUENTIAL DAMAGES\n",
    "#(INCLUDING, BUT NOT LIMITED TO, PROCUREMENT OF SUBSTITUTE GOODS OR SERVICES;\n",
    "#LOSS OF USE, DATA, OR PROFITS; OR BUSINESS INTERRUPTION) HOWEVER CAUSED AND\n",
    "#ON ANY THEORY OF LIABILITY, WHETHER IN CONTRACT, STRICT LIABILITY, OR TORT\n",
    "#(INCLUDING NEGLIGENCE OR OTHERWISE) ARISING IN ANY WAY OUT OF THE USE OF THIS\n",
    "#SOFTWARE, EVEN IF ADVISED OF THE POSSIBILITY OF SUCH DAMAGE."
   ]
  },
  {
   "cell_type": "code",
   "execution_count": 1,
   "metadata": {},
   "outputs": [],
   "source": [
    "import cv2\n",
    "from PIL import Image, ImageEnhance"
   ]
  },
  {
   "cell_type": "code",
   "execution_count": 2,
   "metadata": {
    "scrolled": true
   },
   "outputs": [
    {
     "name": "stdout",
     "output_type": "stream",
     "text": [
      "importing Jupyter notebook from NeuralNetwork3.ipynb\n"
     ]
    }
   ],
   "source": [
    "import import_ipynb\n",
    "import NeuralNetwork3 as neural"
   ]
  },
  {
   "cell_type": "code",
   "execution_count": 3,
   "metadata": {},
   "outputs": [],
   "source": [
    "def separateFraction(box,origWidth,origHeight,image):\n",
    "    x = box[0]\n",
    "    y = box[1]\n",
    "    w = box[2]\n",
    "    h = box[3]\n",
    "    boxH = h\n",
    "        \n",
    "    #denominator\n",
    "    y = y + h\n",
    "    h = origHeight - (origHeight - y)\n",
    "    roi = image[y:y+h, x:x+w]\n",
    "    cv2.imwrite(\"separated/denom.png\", roi)\n",
    "    cv2.imwrite(\"data/denom.png\", roi)\n",
    "    denom = reconstructExpression(\"denom.png\")\n",
    "    \n",
    "    #numerator\n",
    "    h = (origHeight-h) -boxH\n",
    "    y = y - boxH - h\n",
    "    roi = image[y:y+h, x:x+w]\n",
    "    cv2.imwrite(\"separated/num.png\", roi)\n",
    "    cv2.imwrite(\"data/num.png\", roi)\n",
    "    num = reconstructExpression(\"num.png\")\n",
    "\n",
    "    #rest\n",
    "    x = x + w\n",
    "    w = origWidth-x\n",
    "    h = origHeight\n",
    "    roi = image[y:y+h, x:x+w]\n",
    "    cv2.imwrite(\"separated/rest.png\", roi)\n",
    "    cv2.imwrite(\"data/rest.png\", roi)\n",
    "    rest = reconstructExpression(\"rest.png\")\n",
    "    \n",
    "    returnString = \"frac(\"+num+\",\"+denom+\")\"+rest\n",
    "\n",
    "    return returnString"
   ]
  },
  {
   "cell_type": "code",
   "execution_count": 4,
   "metadata": {},
   "outputs": [],
   "source": [
    "def checkFractionBar(aR):\n",
    "    if(aR>=5.00):\n",
    "        return True"
   ]
  },
  {
   "cell_type": "code",
   "execution_count": 5,
   "metadata": {},
   "outputs": [],
   "source": [
    "def checkSquareRoot(box,prevBox):\n",
    "    if(prevBox[0]<=(box[0]+box[2])<=(prevBox[0]+prevBox[2])):\n",
    "        if(prevBox[1]<=(box[1]+box[3])<=(prevBox[1]+prevBox[3])):\n",
    "            return True"
   ]
  },
  {
   "cell_type": "code",
   "execution_count": 6,
   "metadata": {},
   "outputs": [],
   "source": [
    "def checkExponent(centroid,prevCentroid):\n",
    "    if(centroid[0]>prevCentroid[0]):\n",
    "        if(centroid[1]<prevCentroid[1]-60):\n",
    "            return True"
   ]
  },
  {
   "cell_type": "code",
   "execution_count": 7,
   "metadata": {
    "scrolled": true
   },
   "outputs": [],
   "source": [
    "def reconstructExpression(fileName):\n",
    "    boundingBox = []\n",
    "    centroid = []\n",
    "    finalString = \"\"\n",
    "    carryRoot = False\n",
    "    carryExp = False\n",
    "    charFound = False\n",
    "    \n",
    "    #increase brightness\n",
    "    im = Image.open(\"data/\" + fileName)\n",
    "    enhancer = ImageEnhance.Brightness(im)\n",
    "    enhanced_im = enhancer.enhance(1.5)\n",
    "    enhanced_im.save(\"data/bright.png\")\n",
    "\n",
    "    # read the image\n",
    "    image = cv2.imread(\"data/bright.png\")\n",
    "\n",
    "    origWidth, origHeight, channels = image.shape\n",
    "\n",
    "    # apply greyscale filter onto image\n",
    "    image_grey = cv2.cvtColor(image, cv2.COLOR_BGR2GRAY)\n",
    "    # apply a blur to remove noise from the image\n",
    "    image_grey = cv2.GaussianBlur(image_grey, (7, 7), 0)\n",
    "\n",
    "    # threshold image to inverted binary - black and white only\n",
    "    ret, thresh1 = cv2.threshold(image_grey ,127,255,cv2.THRESH_BINARY_INV)\n",
    "    # dilate image to make white portions thicker\n",
    "    image_dilate = cv2.dilate(thresh1, None, iterations=2)\n",
    "\n",
    "    cv2.imwrite(\"separated/PROCESSED.png\",image_dilate)\n",
    "\n",
    "    # find ALL contours in the image\n",
    "    contours = cv2.findContours(image_dilate.copy(), cv2.RETR_EXTERNAL, cv2.CHAIN_APPROX_SIMPLE)\n",
    "    contours = contours[0] if len(contours) == 2 else contours[1]\n",
    "\n",
    "    original = image.copy()\n",
    "    i = 0\n",
    "\n",
    "    for contour in contours:\n",
    "        # if contour area is too small, ignore it\n",
    "        if(cv2.contourArea(contour) < 1000): continue\n",
    "\n",
    "        # bounding rectangles placed on all contours detected\n",
    "        x,y,w,h = cv2.boundingRect(contour)\n",
    "        if w*h < 25: continue\n",
    "\n",
    "        # region of interest taken from contour - we are interested in the contents of the rectangle only\n",
    "        roi = image[y:y+h, x:x+w]\n",
    "\n",
    "        boundingBox.insert(i, [x,y,w,h])\n",
    "\n",
    "        centroidX = (x+w)/2\n",
    "        centroidY = (y+h)/2\n",
    "\n",
    "        centroid.insert(i, [centroidX,centroidY])\n",
    "\n",
    "        # save the contents of each rectangle as a separate PNG image\n",
    "        cv2.imwrite(\"separated/roi\"+ str(i) + \".png\", roi)\n",
    "\n",
    "        i = i + 1\n",
    "\n",
    "    #bubble sort\n",
    "    for passNum in range(0,i):\n",
    "        for c in range(0, i-passNum-1):\n",
    "            if(boundingBox[c][0]>boundingBox[c+1][0]):\n",
    "                temp = boundingBox[c]\n",
    "                boundingBox[c] = boundingBox[c+1]\n",
    "                boundingBox[c+1] = temp\n",
    "                temp2 = centroid[c]\n",
    "                centroid[c] = centroid[c+1]\n",
    "                centroid[c+1] = temp2\n",
    "    \n",
    "    for n in range(0,i): \n",
    "        charFound = False\n",
    "        aspectRatio = (boundingBox[n][2]/boundingBox[n][3])\n",
    "        \n",
    "        #square roots\n",
    "        if(n>0):\n",
    "            if(checkSquareRoot(boundingBox[n],boundingBox[n-1])==True):\n",
    "                finalString = finalString + \"sqrt(\"\n",
    "                charFound = True\n",
    "                carryRoot=True\n",
    "                carryRootBox=n-1\n",
    "                \n",
    "            #exponents\n",
    "            elif(checkExponent(centroid[n],centroid[n-1])==True):\n",
    "                finalString = finalString + \"exp(\"\n",
    "                charFound = True\n",
    "                carryExp=True\n",
    "                carryExpBox=n-1\n",
    "        \n",
    "        #fractions\n",
    "        if(checkFractionBar(aspectRatio)==True):\n",
    "            finalString = finalString + separateFraction(boundingBox[n],origWidth,origHeight,image)\n",
    "            charFound = True\n",
    "            break\n",
    "        \n",
    "        #carry check for roots\n",
    "        if(carryRoot==True and carryExp==False):\n",
    "            if(checkSquareRoot(boundingBox[n],boundingBox[carryRootBox])==True):\n",
    "                finalString = finalString + \"C\"\n",
    "                if(n==i-1):\n",
    "                    finalString = finalString + \")\"\n",
    "                    carryRoot=False\n",
    "            else:\n",
    "                finalString = finalString + \")\"\n",
    "                carryRoot=False\n",
    "                \n",
    "        #carry check for exponents\n",
    "        if(carryExp==True):\n",
    "            if(checkExponent(centroid[n],centroid[carryExpBox])==True):\n",
    "                finalString = finalString + \"C\"\n",
    "                if(n==i-1):\n",
    "                    finalString = finalString + \")\"\n",
    "                    carryExp=False\n",
    "            else:\n",
    "                finalString = finalString + \")\"\n",
    "                carryExp=False\n",
    "        \n",
    "        if(charFound == False):\n",
    "            fileName = \"roi\"+ str(n) +\".png\"\n",
    "            finalString = finalString + str(neural.identifyChar(fileName))\n",
    "    return finalString \n"
   ]
  },
  {
   "cell_type": "code",
   "execution_count": 8,
   "metadata": {},
   "outputs": [],
   "source": [
    "def main():\n",
    "    expression = reconstructExpression(\"fraction.jpg\")\n",
    "    print(expression)\n",
    "    cv2.waitKey(0)\n",
    "    "
   ]
  },
  {
   "cell_type": "code",
   "execution_count": 9,
   "metadata": {},
   "outputs": [
    {
     "name": "stdout",
     "output_type": "stream",
     "text": [
      "Loading image...\n",
      "Predicted value: 5\n",
      "Loading image...\n",
      "Predicted value: 4\n",
      "Loading image...\n",
      "Predicted value: 4\n",
      "Loading image...\n",
      "Predicted value: 7\n",
      "frac(447,5)\n"
     ]
    },
    {
     "data": {
      "image/png": "[encoded data removed]",
      "text/plain": [
       "<Figure size 432x288 with 1 Axes>"
      ]
     },
     "metadata": {
      "needs_background": "light"
     },
     "output_type": "display_data"
    }
   ],
   "source": [
    "if __name__ == \"__main__\":\n",
    "    main()"
   ]
  },
  {
   "cell_type": "code",
   "execution_count": null,
   "metadata": {},
   "outputs": [],
   "source": []
  }
 ],
 "metadata": {
  "kernelspec": {
   "display_name": "Python 3",
   "language": "python",
   "name": "python3"
  },
  "language_info": {
   "codemirror_mode": {
    "name": "ipython",
    "version": 3
   },
   "file_extension": ".py",
   "mimetype": "text/x-python",
   "name": "python",
   "nbconvert_exporter": "python",
   "pygments_lexer": "ipython3",
   "version": "3.6.8"
  }
 },
 "nbformat": 4,
 "nbformat_minor": 2
}
