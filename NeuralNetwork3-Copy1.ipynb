{
 "cells": [
  {
   "cell_type": "code",
   "execution_count": null,
   "metadata": {},
   "outputs": [],
   "source": [
    "#UNWORKING CODE"
   ]
  },
  {
   "cell_type": "code",
   "execution_count": 1,
   "metadata": {},
   "outputs": [],
   "source": [
    "import numpy as np\n",
    "import imageio\n",
    "import cv2\n",
    "import matplotlib.pyplot\n",
    "import imutils\n",
    "from PIL import Image"
   ]
  },
  {
   "cell_type": "code",
   "execution_count": 2,
   "metadata": {},
   "outputs": [],
   "source": [
    "class NeuralNetwork:\n",
    "    \n",
    "    #initialise neural network\n",
    "    def __init__(self, givenINodes, givenHNodes, givenONodes, givenLearningRate):\n",
    "        #setup number of nodes in each layer\n",
    "        self.inputNodes = givenINodes\n",
    "        self.hiddenNodes = givenHNodes\n",
    "        self.outputNodes = givenONodes\n",
    "        \n",
    "        #setup weights with initial values\n",
    "        self.weightsInputHidden = np.random.normal(0.0, pow(self.inputNodes, -0.5), (self.hiddenNodes, self.inputNodes))\n",
    "        self.weightsHiddenOutput = np.random.normal(0.0, pow(self.hiddenNodes, -0.5), (self.outputNodes, self.hiddenNodes))\n",
    "        \n",
    "        #setup learning rate\n",
    "        self.learningRate = givenLearningRate\n",
    "        \n",
    "        #setup activation function\n",
    "        self.activationFunc = lambda x: self.sigmoid(x)\n",
    "            \n",
    "        pass\n",
    "            \n",
    "    def sigmoid(self, Z):\n",
    "        A = 1 / (1 + np.exp(-Z))\n",
    "        return A\n",
    "    \n",
    "    #train the neural network\n",
    "    def train(self, givenInputs, givenTargets):\n",
    "        #inputs and target lists turned into 2D arrays\n",
    "        inputs = np.array(givenInputs, ndmin=2).T\n",
    "        targets = np.array(givenTargets, ndmin=2).T\n",
    "        \n",
    "        #signals into hidden layer calculated\n",
    "        hiddenInputs = np.dot(self.weightsInputHidden, inputs)\n",
    "        #signals coming from hidden layer calculated\n",
    "        hiddenOutputs = self.activationFunc(hiddenInputs)\n",
    "        \n",
    "        #signals into output layer calculated\n",
    "        finalInputs = np.dot(self.weightsHiddenOutput, hiddenOutputs)\n",
    "        #signals from output layer calculated\n",
    "        finalOutputs = self.activationFunc(finalInputs)\n",
    "        \n",
    "        #error backpropagation:\n",
    "        #errors from output layer\n",
    "        outputErrors = targets - finalOutputs\n",
    "        #errors from hidden layer\n",
    "        hiddenErrors = np.dot(self.weightsHiddenOutput.T, outputErrors)\n",
    "        \n",
    "        #weight links updated between all layers\n",
    "        self.weightsHiddenOutput += self.learningRate * np.dot((outputErrors * finalOutputs * (1.0 - finalOutputs)), np.transpose(hiddenOutputs))\n",
    "        self.weightsInputHidden += self.learningRate * np.dot((hiddenErrors * hiddenOutputs * (1.0 - hiddenOutputs)), np.transpose(inputs))\n",
    "        \n",
    "        pass\n",
    "    \n",
    "    #query the neural network\n",
    "    def query(self, givenInputs):\n",
    "        #inputs list converted into a 2D array\n",
    "        inputs = np.array(givenInputs, ndmin=2).T\n",
    "        \n",
    "        #signals into hidden layer calculated\n",
    "        hiddenInputs = np.dot(self.weightsInputHidden, inputs)\n",
    "        #signals coming from hidden layer calculated\n",
    "        hiddenOutputs = self.activationFunc(hiddenInputs)\n",
    "        \n",
    "        #signals into output layer calculated\n",
    "        finalInputs = np.dot(self.weightsHiddenOutput, hiddenOutputs)\n",
    "        #final signals from neural net calculated\n",
    "        finalOutputs = self.activationFunc(finalInputs)\n",
    "        \n",
    "        return finalOutputs\n",
    "    \n",
    "        "
   ]
  },
  {
   "cell_type": "code",
   "execution_count": null,
   "metadata": {},
   "outputs": [],
   "source": [
    "def setupNetwork(givenINodes, givenHNodes, givenONodes, givenLRate):\n",
    "    \n",
    "    #setup global vars and data structures\n",
    "    global n\n",
    "    global outputNodes\n",
    "    global trainingDataList\n",
    "\n",
    "    #set number of nodes in each layer\n",
    "    inputNodes = givenINodes \n",
    "    hiddenNodes = givenHNodes\n",
    "    outputNodes = givenONodes\n",
    "\n",
    "    #set learning rate\n",
    "    learningRate = givenLRate\n",
    "    \n",
    "    #an instance of the neural network created\n",
    "    n = NeuralNetwork(inputNodes, hiddenNodes, outputNodes, learningRate)\n",
    "    \n",
    "    #trainPrep\n",
    "\n",
    "    #open training data file in READ mode\n",
    "    trainingDataFile = open(\"mnist_dataset/mnist_train.csv\",'r')\n",
    "    #save all the lines from the file into a list\n",
    "    trainingDataList = trainingDataFile.readlines()\n",
    "    #close the file\n",
    "    trainingDataFile.close()\n",
    "\n",
    "    #number of times training data used for training\n",
    "    epochs = 10\n",
    "\n",
    "    for e in range(epochs):\n",
    "        #for every record in the training data\n",
    "        for record in trainingDataList:\n",
    "            #split each record by the commas\n",
    "            allVals = record.split(',')\n",
    "            #scale and shift the inputs\n",
    "            inputs = (np.asfarray(allVals[1:]) / 255.0 * 0.99) + 0.01\n",
    "\n",
    "            #target output values created\n",
    "            targets = np.zeros(outputNodes) + 0.01\n",
    "\n",
    "            targets[int(allVals[0])] = 0.99\n",
    "            #neural net trained using inputs and targets \n",
    "            n.train(inputs, targets)\n",
    "\n",
    "            pass\n",
    "        pass\n",
    "\n",
    "    pass"
   ]
  },
  {
   "cell_type": "code",
   "execution_count": 3,
   "metadata": {},
   "outputs": [],
   "source": [
    "def makeSquare(imageName):\n",
    "    #input image\n",
    "    im = Image.open('separated/'+imageName)\n",
    "    #make the image a square shape\n",
    "    sqrWidth = np.ceil(np.sqrt(im.size[0]*im.size[1])).astype(int)\n",
    "    im_resize = im.resize((sqrWidth, sqrWidth))\n",
    "    #save\n",
    "    im_resize.save('output.png')\n",
    "    pass"
   ]
  },
  {
   "cell_type": "code",
   "execution_count": 4,
   "metadata": {},
   "outputs": [],
   "source": [
    "def identifyChar(imageName):\n",
    "    \n",
    "    print (\"Loading image...\")\n",
    "    makeSquare(imageName)\n",
    "    \n",
    "    #read in square image\n",
    "    imageArray = imageio.imread('output.png', as_gray=True)\n",
    "\n",
    "    #rotate image\n",
    "    imageRotated = imutils.rotate(imageArray, 360)\n",
    "\n",
    "    #make image 28 by 28 pixels\n",
    "    imageResized = cv2.resize(imageRotated, (28, 28), cv2.INTER_AREA)\n",
    "\n",
    "    #scale and shift image inputs\n",
    "    imageData = 255.0 - imageResized.reshape(784)\n",
    "    imageData = (imageData / 255.0 * 0.99) + 0.01\n",
    "\n",
    "    print (\"Min:\", np.min(imageData))\n",
    "    print (\"Max:\", np.max(imageData))\n",
    "\n",
    "    #display image\n",
    "    matplotlib.pyplot.imshow(imageData.reshape(28,28), cmap='Greys', interpolation='None')\n",
    "\n",
    "    #query the neural net\n",
    "    outputs = n.query(imageData)\n",
    "\n",
    "    print (outputs)\n",
    "\n",
    "    label = np.argmax(outputs)\n",
    "    print (\"Predicted value:\", label)\n",
    "    \n",
    "    return label\n"
   ]
  },
  {
   "cell_type": "code",
   "execution_count": 6,
   "metadata": {},
   "outputs": [
    {
     "name": "stdout",
     "output_type": "stream",
     "text": [
      "Loading image...\n",
      "Min: 0.01\n",
      "Max: 0.9806692\n",
      "[[4.33740285e-04]\n",
      " [1.32265893e-03]\n",
      " [5.97339035e-03]\n",
      " [1.13863524e-03]\n",
      " [9.83129756e-01]\n",
      " [2.39327827e-03]\n",
      " [3.00526435e-03]\n",
      " [1.86389669e-02]\n",
      " [2.53703100e-03]\n",
      " [3.04966161e-03]]\n",
      "Predicted value: 4\n"
     ]
    },
    {
     "data": {
      "text/plain": [
       "4"
      ]
     },
     "execution_count": 6,
     "metadata": {},
     "output_type": "execute_result"
    },
    {
     "data": {
      "image/png": "[encoded data removed]",
      "text/plain": [
       "<Figure size 432x288 with 1 Axes>"
      ]
     },
     "metadata": {
      "needs_background": "light"
     },
     "output_type": "display_data"
    }
   ],
   "source": [
    "identifyChar(\"7.jpg\")"
   ]
  },
  {
   "cell_type": "code",
   "execution_count": null,
   "metadata": {},
   "outputs": [],
   "source": []
  }
 ],
 "metadata": {
  "kernelspec": {
   "display_name": "Python 3",
   "language": "python",
   "name": "python3"
  },
  "language_info": {
   "codemirror_mode": {
    "name": "ipython",
    "version": 3
   },
   "file_extension": ".py",
   "mimetype": "text/x-python",
   "name": "python",
   "nbconvert_exporter": "python",
   "pygments_lexer": "ipython3",
   "version": "3.6.8"
  }
 },
 "nbformat": 4,
 "nbformat_minor": 2
}
