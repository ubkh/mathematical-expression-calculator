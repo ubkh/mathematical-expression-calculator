{
 "cells": [
  {
   "cell_type": "code",
   "execution_count": null,
   "metadata": {},
   "outputs": [],
   "source": [
    "from PIL import Image\n",
    "import PIL.ImageOps\n",
    "import numpy as np\n",
    "import sys\n",
    "import os\n",
    "import csv"
   ]
  },
  {
   "cell_type": "code",
   "execution_count": null,
   "metadata": {},
   "outputs": [],
   "source": [
    "fileList = []\n",
    "\n",
    "#Useful function to create list of all JPG files in dir\n",
    "def createFileList(myDir, format='.jpg'):\n",
    "    print(myDir)\n",
    "    print(fileList)\n",
    "    for root, dirs, files in os.walk(myDir, topdown=False):\n",
    "        for name in files:\n",
    "            if name.endswith(format):\n",
    "                fullName = os.path.join(root, name)\n",
    "                fileList.append(fullName)\n",
    "    return fileList"
   ]
  },
  {
   "cell_type": "code",
   "execution_count": null,
   "metadata": {},
   "outputs": [],
   "source": [
    "# load the original image\n",
    "myFileList = createFileList('dataset_sample')\n",
    "\n",
    "for file in fileList:\n",
    "    print(file)\n",
    "    img_file = Image.open(file)\n",
    "\n",
    "    # get original image parameters...\n",
    "    width, height = img_file.size\n",
    "    format = img_file.format\n",
    "    mode = img_file.mode\n",
    "\n",
    "    # Make image greyscale\n",
    "    img_grey = img_file.convert('L')\n",
    "    img_grey = PIL.ImageOps.invert(img_grey)\n",
    "    # Save values\n",
    "    value = np.asarray(img_grey.getdata(), dtype=np.int).reshape((img_grey.size[1], img_grey.size[0]))\n",
    "    \n",
    "    #the character label is the name of the parent directory\n",
    "    char = os.path.dirname(file)\n",
    "    char = os.path.basename(char)\n",
    "\n",
    "    print(fileName)\n",
    "    \n",
    "    #flatten into 1D\n",
    "    value = value.flatten()\n",
    "    \n",
    "    #save\n",
    "    with open(\"dataset_pixels.csv\", 'a') as f:\n",
    "        #each line is for a new image\n",
    "        writer = csv.writer(f)\n",
    "        writer.writerow(value)\n",
    "        \n",
    "    with open(\"dataset_labels.txt\", 'a') as f:\n",
    "        #each line is for a new char label\n",
    "        #\\n writes on new line\n",
    "        f.write(char+\"\\n\")\n",
    "        "
   ]
  },
  {
   "cell_type": "code",
   "execution_count": null,
   "metadata": {},
   "outputs": [],
   "source": []
  }
 ],
 "metadata": {
  "kernelspec": {
   "display_name": "Python 3",
   "language": "python",
   "name": "python3"
  },
  "language_info": {
   "codemirror_mode": {
    "name": "ipython",
    "version": 3
   },
   "file_extension": ".py",
   "mimetype": "text/x-python",
   "name": "python",
   "nbconvert_exporter": "python",
   "pygments_lexer": "ipython3",
   "version": "3.6.8"
  }
 },
 "nbformat": 4,
 "nbformat_minor": 2
}
