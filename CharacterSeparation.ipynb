{
 "cells": [
  {
   "cell_type": "code",
   "execution_count": 1,
   "metadata": {},
   "outputs": [],
   "source": [
    "#import numpy as np\n",
    "import cv2\n",
    "#import imutils"
   ]
  },
  {
   "cell_type": "code",
   "execution_count": 5,
   "metadata": {},
   "outputs": [
    {
     "name": "stdout",
     "output_type": "stream",
     "text": [
      "3024\n",
      "4032\n",
      "278\n",
      "0.7769784172661871\n",
      "337\n",
      "0.8130563798219584\n",
      "56\n",
      "23.142857142857142\n",
      "283\n",
      "0.8939929328621908\n",
      "462\n",
      "0.551948051948052\n",
      "330\n",
      "0.8424242424242424\n",
      "409\n",
      "0.7286063569682152\n",
      "386\n",
      "0.5569948186528497\n"
     ]
    },
    {
     "data": {
      "text/plain": [
       "-1"
      ]
     },
     "execution_count": 5,
     "metadata": {},
     "output_type": "execute_result"
    }
   ],
   "source": [
    "# read the image\n",
    "image = cv2.imread(\"data/IMAGETEST.jpg\")\n",
    "\n",
    "origWidth, origHeight, channels = image.shape\n",
    "#origWidth = origWidth\n",
    "#oridHeight = origHeight\n",
    "\n",
    "print (origHeight)\n",
    "print (origWidth)\n",
    "    \n",
    "# apply greyscale filter onto image\n",
    "image_grey = cv2.cvtColor(image, cv2.COLOR_BGR2GRAY)\n",
    "# apply a blur to remove noise from the image\n",
    "image_grey = cv2.GaussianBlur(image_grey, (7, 7), 0)\n",
    "\n",
    "# threshold image to inverted binary - black and white only\n",
    "ret, thresh1 = cv2.threshold(image_grey ,127,255,cv2.THRESH_BINARY_INV)\n",
    "# dilate image to make white portions thicker\n",
    "image_dilate = cv2.dilate(thresh1, None, iterations=2)\n",
    "\n",
    "# find ALL contours in the image\n",
    "contours = cv2.findContours(image_dilate.copy(), cv2.RETR_EXTERNAL, cv2.CHAIN_APPROX_SIMPLE)\n",
    "contours = contours[0] if len(contours) == 2 else contours[1]\n",
    "\n",
    "original = image.copy()\n",
    "i = 0\n",
    "\n",
    "for contour in contours:\n",
    "    # if contour area is too small, ignore it\n",
    "    if(cv2.contourArea(contour) < 10000):\n",
    "        continue\n",
    "    \n",
    "    # bounding rectangles placed on all contours detected\n",
    "    x,y,w,h = cv2.boundingRect(contour)\n",
    "    \n",
    "    # region of interest taken from contour - we are interested in the contents of the rectangle only\n",
    "    #roi = image[y:y+h, x:x+w]\n",
    "\n",
    "    aspectRatio = w/h\n",
    "    print (h)\n",
    "    print (aspectRatio)\n",
    "    \n",
    "    if(aspectRatio >= 5.00):\n",
    "\n",
    "        boxH = h\n",
    "        \n",
    "        #denominator\n",
    "        y = y + h\n",
    "        h = origHeight-y\n",
    "        h = origHeight-h\n",
    "        \n",
    "        roi = image[y:y+h, x:x+w]\n",
    "        cv2.imwrite(\"denom\"+ str(i) + \".png\", roi)\n",
    "        \n",
    "        #numerator\n",
    "        h = origHeight-h\n",
    "        h = h-boxH\n",
    "        y = y - boxH - h\n",
    "        \n",
    "        roi = image[y:y+h, x:x+w]\n",
    "        cv2.imwrite(\"num\"+ str(i) + \".png\", roi)\n",
    "        \n",
    "        #rest\n",
    "        x = x + w\n",
    "        w = origWidth-x\n",
    "        h = origHeight\n",
    "        \n",
    "        roi = image[y:y+h, x:x+w]\n",
    "        cv2.imwrite(\"rest\"+ str(i) + \".png\", roi)\n",
    "        \n",
    "        \n",
    "    # rectangles marked onto image\n",
    "    #cv2.rectangle(original, (x,y), (x+w,newY), (0,255,0), 2)\n",
    "    \n",
    "    # save the contents of each rectangle as a separate PNG image\n",
    "    #cv2.imwrite(\"roi\"+ str(i) + \".png\", roi)\n",
    "    \n",
    "    i = i + 1\n",
    "\n",
    "#cv2.imshow(\"IMG\", original)\n",
    "#cv2.imwrite(\"IMG.png\", original)\n",
    "cv2.waitKey(0)\n",
    "    "
   ]
  },
  {
   "cell_type": "code",
   "execution_count": null,
   "metadata": {},
   "outputs": [],
   "source": []
  },
  {
   "cell_type": "code",
   "execution_count": null,
   "metadata": {},
   "outputs": [],
   "source": []
  }
 ],
 "metadata": {
  "kernelspec": {
   "display_name": "Python 3",
   "language": "python",
   "name": "python3"
  },
  "language_info": {
   "codemirror_mode": {
    "name": "ipython",
    "version": 3
   },
   "file_extension": ".py",
   "mimetype": "text/x-python",
   "name": "python",
   "nbconvert_exporter": "python",
   "pygments_lexer": "ipython3",
   "version": "3.6.8"
  }
 },
 "nbformat": 4,
 "nbformat_minor": 2
}
