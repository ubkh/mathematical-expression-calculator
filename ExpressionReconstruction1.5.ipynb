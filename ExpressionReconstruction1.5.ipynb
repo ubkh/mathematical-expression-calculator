{
 "cells": [
  {
   "cell_type": "code",
   "execution_count": 1,
   "metadata": {},
   "outputs": [],
   "source": [
    "import cv2\n",
    "from PIL import Image, ImageEnhance"
   ]
  },
  {
   "cell_type": "code",
   "execution_count": 2,
   "metadata": {
    "scrolled": true
   },
   "outputs": [
    {
     "name": "stdout",
     "output_type": "stream",
     "text": [
      "importing Jupyter notebook from NeuralNetwork3.ipynb\n",
      "importing Jupyter notebook from CharacterSeparation2.ipynb\n"
     ]
    }
   ],
   "source": [
    "import import_ipynb\n",
    "import NeuralNetwork3 as neural\n",
    "import CharacterSeparation2 as cs"
   ]
  },
  {
   "cell_type": "code",
   "execution_count": 3,
   "metadata": {},
   "outputs": [],
   "source": [
    "def separateFraction(box,origWidth,origHeight,image):\n",
    "    x = box[0]\n",
    "    y = box[1]\n",
    "    w = box[2]\n",
    "    h = box[3]\n",
    "    boxH = h\n",
    "        \n",
    "    #denominator\n",
    "    y = y + h\n",
    "    h = origHeight - (origHeight - y)\n",
    "    roi = image[y:y+h, x:x+w]\n",
    "    cv2.imwrite(\"separated/denom.png\", roi)\n",
    "    cv2.imwrite(\"data/denom.png\", roi)\n",
    "    denom = reconstructExpression(\"denom.png\")\n",
    "   \n",
    "    #numerator\n",
    "    h = (origHeight-h) -boxH\n",
    "    y = y - boxH - h\n",
    "    roi = image[y:y+h, x:x+w]\n",
    "    cv2.imwrite(\"separated/num.png\", roi)\n",
    "    cv2.imwrite(\"data/num.png\", roi)\n",
    "    num = reconstructExpression(\"num.png\")\n",
    "\n",
    "    #rest\n",
    "    x = x + w\n",
    "    w = origWidth-x\n",
    "    h = origHeight\n",
    "    roi = image[y:y+h, x:x+w]\n",
    "    cv2.imwrite(\"separated/rest.png\", roi)\n",
    "    cv2.imwrite(\"data/rest.png\", roi)\n",
    "    rest = reconstructExpression(\"rest.png\")\n",
    "    \n",
    "    returnString = \"frac(\"+num+\",\"+denom+\")\"+rest\n",
    "\n",
    "    return returnString"
   ]
  },
  {
   "cell_type": "code",
   "execution_count": 4,
   "metadata": {},
   "outputs": [],
   "source": [
    "def checkFractionBar(aR):\n",
    "    if(aR>=5.00):\n",
    "        return True"
   ]
  },
  {
   "cell_type": "code",
   "execution_count": 5,
   "metadata": {},
   "outputs": [],
   "source": [
    "def checkSquareRoot(box,prevBox):\n",
    "    if(prevBox[0]<=(box[0]+box[2])<=(prevBox[0]+prevBox[2])):\n",
    "        if(prevBox[1]<=(box[1]+box[3])<=(prevBox[1]+prevBox[3])):\n",
    "            return True"
   ]
  },
  {
   "cell_type": "code",
   "execution_count": 6,
   "metadata": {},
   "outputs": [],
   "source": [
    "def checkExponent(centroid,prevCentroid):\n",
    "    if(centroid[0]>prevCentroid[0]):\n",
    "        if(centroid[1]<prevCentroid[1]-60):\n",
    "            return True"
   ]
  },
  {
   "cell_type": "code",
   "execution_count": 7,
   "metadata": {
    "scrolled": true
   },
   "outputs": [],
   "source": [
    "def reconstructExpression(fileName):\n",
    "    boundingBox = []\n",
    "    centroid = []\n",
    "    finalString = \"\"\n",
    "    carryRoot = False\n",
    "    carryExp = False\n",
    "    charFound = False\n",
    "    \n",
    "    i = cs.separateChars(fileName)\n",
    "    \n",
    "    boundingBox = cs.getBoundingBoxes()\n",
    "    centroid = cs.getCentroids()\n",
    "    \n",
    "    #read in brightened image\n",
    "    image = cv2.imread(\"data/bright.png\")\n",
    "    origWidth, origHeight, channels = image.shape\n",
    "    \n",
    "    #bubble sort\n",
    "    for passNum in range(0,i):\n",
    "        for c in range(0, i-passNum-1):\n",
    "            if(boundingBox[c][0]>boundingBox[c+1][0]):\n",
    "                temp = boundingBox[c]\n",
    "                boundingBox[c] = boundingBox[c+1]\n",
    "                boundingBox[c+1] = temp\n",
    "                temp2 = centroid[c]\n",
    "                centroid[c] = centroid[c+1]\n",
    "                centroid[c+1] = temp2\n",
    "    \n",
    "    for n in range(0,i): \n",
    "        charFound = False\n",
    "        aspectRatio = (boundingBox[n][2]/boundingBox[n][3])\n",
    "        \n",
    "        #square roots\n",
    "        if(n>0):\n",
    "            if(checkSquareRoot(boundingBox[n],boundingBox[n-1])==True):\n",
    "                finalString = finalString + \"sqrt(\"\n",
    "                charFound = True\n",
    "                carryRoot=True\n",
    "                carryRootBox=n-1\n",
    "                \n",
    "            #exponents\n",
    "            elif(checkExponent(centroid[n],centroid[n-1])==True):\n",
    "                finalString = finalString + \"exp(\"\n",
    "                charFound = True\n",
    "                carryExp=True\n",
    "                carryExpBox=n-1\n",
    "        \n",
    "        #fractions\n",
    "        if(checkFractionBar(aspectRatio)==True):\n",
    "            finalString = finalString + separateFraction(boundingBox[n],origWidth,origHeight,image)\n",
    "            charFound = True\n",
    "            break\n",
    "        \n",
    "        #carry check for roots\n",
    "        if(carryRoot==True and carryExp==False):\n",
    "            if(checkSquareRoot(boundingBox[n],boundingBox[carryRootBox])==True):\n",
    "                finalString = finalString + \"C\"\n",
    "                if(n==i-1):\n",
    "                    finalString = finalString + \")\"\n",
    "                    carryRoot=False\n",
    "            else:\n",
    "                finalString = finalString + \")\"\n",
    "                carryRoot=False\n",
    "                \n",
    "        #carry check for exponents\n",
    "        if(carryExp==True):\n",
    "            if(checkExponent(centroid[n],centroid[carryExpBox])==True):\n",
    "                finalString = finalString + \"C\"\n",
    "                if(n==i-1):\n",
    "                    finalString = finalString + \")\"\n",
    "                    carryExp=False\n",
    "            else:\n",
    "                finalString = finalString + \")\"\n",
    "                carryExp=False\n",
    "        \n",
    "        if(charFound == False):\n",
    "            fileName = \"roi\"+ str(n) +\".png\"\n",
    "            finalString = finalString + str(neural.identifyChar(fileName))\n",
    "            \n",
    "        print(finalString)\n",
    "    return finalString \n"
   ]
  },
  {
   "cell_type": "code",
   "execution_count": 8,
   "metadata": {},
   "outputs": [],
   "source": [
    "def main():\n",
    "    expression = reconstructExpression(\"fraction.jpg\")\n",
    "    print(expression)\n",
    "    cv2.waitKey(0)\n",
    "    "
   ]
  },
  {
   "cell_type": "code",
   "execution_count": 9,
   "metadata": {
    "scrolled": false
   },
   "outputs": [
    {
     "name": "stdout",
     "output_type": "stream",
     "text": [
      "Loading image...\n",
      "Min: 0.01\n",
      "Max: 0.6958048\n",
      "[[0.12091131]\n",
      " [0.00160723]\n",
      " [0.00487512]\n",
      " [0.00930884]\n",
      " [0.22591814]\n",
      " [0.35184587]\n",
      " [0.00194726]\n",
      " [0.19519378]\n",
      " [0.00387701]\n",
      " [0.00074385]]\n",
      "Predicted value: 5\n",
      "5\n",
      "5\n",
      "Loading image...\n",
      "Min: 0.01\n",
      "Max: 0.648839\n",
      "[[0.00215533]\n",
      " [0.02262412]\n",
      " [0.00448058]\n",
      " [0.00529627]\n",
      " [0.37486481]\n",
      " [0.09765849]\n",
      " [0.02063042]\n",
      " [0.09595444]\n",
      " [0.00638934]\n",
      " [0.00944933]]\n",
      "Predicted value: 4\n",
      "4\n",
      "Loading image...\n",
      "Min: 0.01\n",
      "Max: 0.6747551\n",
      "[[0.00607701]\n",
      " [0.05613347]\n",
      " [0.0014147 ]\n",
      " [0.10805317]\n",
      " [0.1676105 ]\n",
      " [0.00271775]\n",
      " [0.05447776]\n",
      " [0.00949827]\n",
      " [0.00395081]\n",
      " [0.03233589]]\n",
      "Predicted value: 4\n",
      "44\n",
      "Loading image...\n",
      "Min: 0.01\n",
      "Max: 0.6451114\n",
      "[[0.00916306]\n",
      " [0.00774123]\n",
      " [0.00213594]\n",
      " [0.01971939]\n",
      " [0.3198693 ]\n",
      " [0.00922296]\n",
      " [0.00409925]\n",
      " [0.47166297]\n",
      " [0.00353621]\n",
      " [0.02218333]]\n",
      "Predicted value: 7\n",
      "447\n",
      "447\n",
      "frac(447,5)\n"
     ]
    },
    {
     "data": {
      "image/png": "[encoded data removed]",
      "text/plain": [
       "<Figure size 432x288 with 1 Axes>"
      ]
     },
     "metadata": {
      "needs_background": "light"
     },
     "output_type": "display_data"
    }
   ],
   "source": [
    "if __name__ == \"__main__\":\n",
    "    main()"
   ]
  },
  {
   "cell_type": "code",
   "execution_count": null,
   "metadata": {},
   "outputs": [],
   "source": []
  }
 ],
 "metadata": {
  "kernelspec": {
   "display_name": "Python 3",
   "language": "python",
   "name": "python3"
  },
  "language_info": {
   "codemirror_mode": {
    "name": "ipython",
    "version": 3
   },
   "file_extension": ".py",
   "mimetype": "text/x-python",
   "name": "python",
   "nbconvert_exporter": "python",
   "pygments_lexer": "ipython3",
   "version": "3.6.8"
  }
 },
 "nbformat": 4,
 "nbformat_minor": 2
}
