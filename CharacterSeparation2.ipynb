{
 "cells": [
  {
   "cell_type": "code",
   "execution_count": 1,
   "metadata": {},
   "outputs": [],
   "source": [
    "boundingBox = []\n",
    "centroid = []\n",
    "fileName = []"
   ]
  },
  {
   "cell_type": "code",
   "execution_count": 2,
   "metadata": {},
   "outputs": [],
   "source": [
    "import cv2\n",
    "from PIL import Image, ImageEnhance\n",
    "import numpy as np"
   ]
  },
  {
   "cell_type": "code",
   "execution_count": 17,
   "metadata": {},
   "outputs": [],
   "source": [
    "def separateChars(originalFile):\n",
    "    \n",
    "    #increase brightness\n",
    "    im = Image.open(\"data/\" + originalFile)\n",
    "    \n",
    "    #WARNING: No checks on abnormal dimensions done yet!\n",
    "    new_width  = 300\n",
    "    new_height = 300\n",
    "    im = im.resize((new_width, new_height), Image.ANTIALIAS)\n",
    "    \n",
    "    enhancer = ImageEnhance.Brightness(im)\n",
    "    enhanced_im = enhancer.enhance(1.5)\n",
    "    im.save(\"data/bright.png\")\n",
    "\n",
    "    # read the image\n",
    "    image = cv2.imread(\"data/bright.png\")\n",
    "    origWidth, origHeight, channels = image.shape\n",
    "\n",
    "    # apply greyscale filter onto image\n",
    "    image_grey = cv2.cvtColor(image, cv2.COLOR_BGR2GRAY)\n",
    "    \n",
    "    # apply a blur to remove noise from the image\n",
    "    #image_grey = cv2.GaussianBlur(image_grey, (7, 7), 0)\n",
    "\n",
    "    # threshold image to inverted binary - black and white only\n",
    "    ret, thresh1 = cv2.threshold(image_grey ,127,255,cv2.THRESH_BINARY_INV)\n",
    "    \n",
    "    # dilate image to make white portions thicker\n",
    "    image_dilate = cv2.dilate(thresh1, None, iterations=2)\n",
    "    \n",
    "    # greyscale image from now on provides much better identification\n",
    "    # all cropped bounding boxes will be from the greyscale image\n",
    "    image = image_grey\n",
    "    \n",
    "    cv2.imwrite(\"separated/PROCESSED.png\",image_dilate)\n",
    "\n",
    "    # find ALL contours in the image\n",
    "    contours = cv2.findContours(image_dilate.copy(), cv2.RETR_EXTERNAL, cv2.CHAIN_APPROX_SIMPLE)\n",
    "    contours = contours[0] if len(contours) == 2 else contours[1]\n",
    "\n",
    "    original = image.copy()\n",
    "    i = 0\n",
    "\n",
    "    for contour in contours:\n",
    "        print(\"AREA: \" + str(cv2.contourArea(contour)))\n",
    "        # if contour area is too small, ignore it\n",
    "        if(cv2.contourArea(contour) < 900): continue\n",
    "\n",
    "        # bounding rectangles placed on all contours detected\n",
    "        x,y,w,h = cv2.boundingRect(contour)\n",
    "        #\n",
    "        if w*h < 25: continue\n",
    "\n",
    "        # region of interest taken from contour - we are interested in the contents of the rectangle only\n",
    "        roi = image[y:y+h, x:x+w]\n",
    "        #roi = image[y:y+45, x:x+45]\n",
    "\n",
    "        boundingBox.insert(i, [x,y,w,h])\n",
    "\n",
    "        centroidX = (x+w)/2\n",
    "        centroidY = (y+h)/2\n",
    "\n",
    "        centroid.insert(i, [centroidX,centroidY])\n",
    "    \n",
    "        fileName.insert(i, \"roi\"+str(i)+\".png\")\n",
    "        \n",
    "        # save the contents of each rectangle as a separate PNG image\n",
    "        cv2.imwrite(\"separated/\"+fileName[i], roi)\n",
    "        \n",
    "        \n",
    "        #resize h and w of roi\n",
    "        imgi = Image.open(\"separated/\"+fileName[i])\n",
    "    \n",
    "        base_roi_width  = 25\n",
    "        #new_roi_height = 45\n",
    "        wpercent = (base_roi_width / float(imgi.size[0]))\n",
    "        hsize = int((float(imgi.size[1]) * float(wpercent)))\n",
    "        imgi = imgi.resize((base_roi_width, hsize), Image.ANTIALIAS)\n",
    "        #imgi = imgi.resize((new_roi_width, new_roi_height), Image.ANTIALIAS)\n",
    "    \n",
    "        #imgi.save(\"separated/\"+fileName[i])\n",
    "        \n",
    "        \n",
    "        # read image\n",
    "        img = cv2.imread(\"separated/\"+fileName[i])\n",
    "        ht, wd, cc= img.shape\n",
    "\n",
    "        # create new image of desired size and color for padding\n",
    "        ww = 150                                             \n",
    "        hh = 150\n",
    "        color = (255,255,255)\n",
    "        result = np.full((hh,ww,cc), color, dtype=np.uint8)\n",
    "\n",
    "        # compute center offset\n",
    "        xx = (ww - wd) // 2\n",
    "        yy = (hh - ht) // 2\n",
    " \n",
    "        # copy img image into center of result image\n",
    "        result[yy:yy+ht, xx:xx+wd] = img\n",
    "\n",
    "        # save result\n",
    "        cv2.imwrite(\"separated/\"+fileName[i], result)\n",
    "    \n",
    "        i = i + 1\n",
    "        \n",
    "    return i"
   ]
  },
  {
   "cell_type": "code",
   "execution_count": 18,
   "metadata": {},
   "outputs": [
    {
     "name": "stdout",
     "output_type": "stream",
     "text": [
      "AREA: 1282.5\n",
      "AREA: 1724.5\n"
     ]
    },
    {
     "data": {
      "text/plain": [
       "2"
      ]
     },
     "execution_count": 18,
     "metadata": {},
     "output_type": "execute_result"
    }
   ],
   "source": [
    "separateChars(\"D.png\")"
   ]
  },
  {
   "cell_type": "code",
   "execution_count": 11,
   "metadata": {},
   "outputs": [],
   "source": [
    "def getBoundingBoxes():\n",
    "    return boundingBox"
   ]
  },
  {
   "cell_type": "code",
   "execution_count": 60,
   "metadata": {},
   "outputs": [],
   "source": [
    "def getCentroids():\n",
    "    return centroid"
   ]
  },
  {
   "cell_type": "code",
   "execution_count": 61,
   "metadata": {},
   "outputs": [],
   "source": [
    "def getFilenames():\n",
    "    return fileName"
   ]
  },
  {
   "cell_type": "code",
   "execution_count": null,
   "metadata": {},
   "outputs": [],
   "source": []
  }
 ],
 "metadata": {
  "kernelspec": {
   "display_name": "Python 3",
   "language": "python",
   "name": "python3"
  },
  "language_info": {
   "codemirror_mode": {
    "name": "ipython",
    "version": 3
   },
   "file_extension": ".py",
   "mimetype": "text/x-python",
   "name": "python",
   "nbconvert_exporter": "python",
   "pygments_lexer": "ipython3",
   "version": "3.6.8"
  }
 },
 "nbformat": 4,
 "nbformat_minor": 2
}
