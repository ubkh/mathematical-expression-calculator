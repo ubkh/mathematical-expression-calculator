{
 "cells": [
  {
   "cell_type": "code",
   "execution_count": 1,
   "metadata": {},
   "outputs": [],
   "source": [
    "import cv2\n",
    "from PIL import Image, ImageEnhance"
   ]
  },
  {
   "cell_type": "code",
   "execution_count": 2,
   "metadata": {},
   "outputs": [],
   "source": [
    "boundingBox = []\n",
    "centroid = []\n",
    "fileName = []"
   ]
  },
  {
   "cell_type": "code",
   "execution_count": 3,
   "metadata": {},
   "outputs": [],
   "source": [
    "def separateChars(originalFile):\n",
    "    \n",
    "    #increase brightness\n",
    "    im = Image.open(\"data/\" + originalFile)\n",
    "    \n",
    "    #WARNING: No checks on abnormal dimensions done yet!\n",
    "    new_width  = 300\n",
    "    new_height = 300\n",
    "    im = im.resize((new_width, new_height), Image.ANTIALIAS)\n",
    "    \n",
    "    enhancer = ImageEnhance.Brightness(im)\n",
    "    enhanced_im = enhancer.enhance(1.5)\n",
    "    im.save(\"data/bright.png\")\n",
    "\n",
    "    # read the image\n",
    "    image = cv2.imread(\"data/bright.png\")\n",
    "\n",
    "    origWidth, origHeight, channels = image.shape\n",
    "\n",
    "    # apply greyscale filter onto image\n",
    "    image_grey = cv2.cvtColor(image, cv2.COLOR_BGR2GRAY)\n",
    "    \n",
    "    # apply a blur to remove noise from the image\n",
    "    image_grey = cv2.GaussianBlur(image_grey, (7, 7), 0)\n",
    "\n",
    "    # threshold image to inverted binary - black and white only\n",
    "    ret, thresh1 = cv2.threshold(image_grey ,127,255,cv2.THRESH_BINARY_INV)\n",
    "    \n",
    "    # dilate image to make white portions thicker\n",
    "    image_dilate = cv2.dilate(thresh1, None, iterations=2)\n",
    "    \n",
    "    # greyscale image from now on provides much better identification\n",
    "    # all cropped bounding boxes will be from the greyscale image\n",
    "    image = image_grey\n",
    "    \n",
    "    cv2.imwrite(\"separated/PROCESSED.png\",image_dilate)\n",
    "\n",
    "    # find ALL contours in the image\n",
    "    contours = cv2.findContours(image_dilate.copy(), cv2.RETR_EXTERNAL, cv2.CHAIN_APPROX_SIMPLE)\n",
    "    contours = contours[0] if len(contours) == 2 else contours[1]\n",
    "\n",
    "    original = image.copy()\n",
    "    i = 0\n",
    "\n",
    "    for contour in contours:\n",
    "        # if contour area is too small, ignore it\n",
    "        if(cv2.contourArea(contour) < 1000): continue\n",
    "\n",
    "        # bounding rectangles placed on all contours detected\n",
    "        x,y,w,h = cv2.boundingRect(contour)\n",
    "        #\n",
    "        if w*h < 25: continue\n",
    "\n",
    "        # region of interest taken from contour - we are interested in the contents of the rectangle only\n",
    "        roi = image[y:y+h, x:x+w]\n",
    "\n",
    "        boundingBox.insert(i, [x,y,w,h])\n",
    "\n",
    "        centroidX = (x+w)/2\n",
    "        centroidY = (y+h)/2\n",
    "\n",
    "        centroid.insert(i, [centroidX,centroidY])\n",
    "    \n",
    "        fileName.insert(i, \"roi\"+str(i)+\".png\")\n",
    "        \n",
    "        # save the contents of each rectangle as a separate PNG image\n",
    "        cv2.imwrite(\"separated/\"+fileName[i], roi)\n",
    "        \n",
    "        i = i + 1\n",
    "        \n",
    "    return i"
   ]
  },
  {
   "cell_type": "code",
   "execution_count": 4,
   "metadata": {},
   "outputs": [],
   "source": [
    "def getBoundingBoxes():\n",
    "    return boundingBox"
   ]
  },
  {
   "cell_type": "code",
   "execution_count": 5,
   "metadata": {},
   "outputs": [],
   "source": [
    "def getCentroids():\n",
    "    return centroid"
   ]
  },
  {
   "cell_type": "code",
   "execution_count": 6,
   "metadata": {},
   "outputs": [],
   "source": [
    "def getFilenames():\n",
    "    return fileName"
   ]
  },
  {
   "cell_type": "code",
   "execution_count": null,
   "metadata": {},
   "outputs": [],
   "source": []
  }
 ],
 "metadata": {
  "kernelspec": {
   "display_name": "Python 3",
   "language": "python",
   "name": "python3"
  },
  "language_info": {
   "codemirror_mode": {
    "name": "ipython",
    "version": 3
   },
   "file_extension": ".py",
   "mimetype": "text/x-python",
   "name": "python",
   "nbconvert_exporter": "python",
   "pygments_lexer": "ipython3",
   "version": "3.6.8"
  }
 },
 "nbformat": 4,
 "nbformat_minor": 2
}
