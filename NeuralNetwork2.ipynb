{
 "cells": [
  {
   "cell_type": "code",
   "execution_count": 1,
   "metadata": {},
   "outputs": [],
   "source": [
    "import numpy as np\n"
   ]
  },
  {
   "cell_type": "code",
   "execution_count": 2,
   "metadata": {},
   "outputs": [],
   "source": [
    "class NeuralNetwork:\n",
    "    \n",
    "    #initialise neural network\n",
    "    def __init__(self, givenINodes, givenHNodes, givenONodes, givenLearningRate):\n",
    "        #setup number of nodes in each layer\n",
    "        self.inputNodes = givenINodes\n",
    "        self.hiddenNodes = givenHNodes\n",
    "        self.outputNodes = givenONodes\n",
    "        \n",
    "        #setup weights with initial values\n",
    "        self.weightsInputHidden = np.random.normal(0.0, pow(self.inputNodes, -0.5), (self.hiddenNodes, self.inputNodes))\n",
    "        self.weightsHiddenOutput = np.random.normal(0.0, pow(self.hiddenNodes, -0.5), (self.outputNodes, self.hiddenNodes))\n",
    "        \n",
    "        #setup learning rate\n",
    "        self.learningRate = givenLearningRate\n",
    "        \n",
    "        #setup activation function\n",
    "        self.activationFunc = lambda x: self.sigmoid(x)\n",
    "            \n",
    "        pass\n",
    "            \n",
    "    def sigmoid(self, Z):\n",
    "        A = 1 / (1 + np.exp(-Z))\n",
    "        return A\n",
    "    \n",
    "    #train the neural network\n",
    "    def train(self, givenInputs, givenTargets):\n",
    "        #inputs and target lists turned into 2D arrays\n",
    "        inputs = np.array(givenInputs, ndmin=2).T\n",
    "        targets = np.array(givenTargets, ndmin=2).T\n",
    "        \n",
    "        #signals into hidden layer calculated\n",
    "        hiddenInputs = np.dot(self.weightsInputHidden, inputs)\n",
    "        #signals coming from hidden layer calculated\n",
    "        hiddenOutputs = self.activationFunc(hiddenInputs)\n",
    "        \n",
    "        #signals into output layer calculated\n",
    "        finalInputs = np.dot(self.weightsHiddenOutput, hiddenOutputs)\n",
    "        #signals from output layer calculated\n",
    "        finalOutputs = self.activationFunc(finalInputs)\n",
    "        \n",
    "        #error backpropagation:\n",
    "        #errors from output layer\n",
    "        outputErrors = targets - finalOutputs\n",
    "        #errors from hidden layer\n",
    "        hiddenErrors = np.dot(self.weightsHiddenOutput.T, outputErrors)\n",
    "        \n",
    "        #weight links updated between all layers\n",
    "        self.weightsHiddenOutput += self.learningRate * np.dot((outputErrors * finalOutputs * (1.0 - finalOutputs)), np.transpose(hiddenOutputs))\n",
    "        self.weightsInputHidden += self.learningRate * np.dot((hiddenErrors * hiddenOutputs * (1.0 - hiddenOutputs)), np.transpose(inputs))\n",
    "        \n",
    "        pass\n",
    "    \n",
    "    #query the neural network\n",
    "    def query(self, givenInputs):\n",
    "        #inputs list converted into a 2D array\n",
    "        inputs = np.array(givenInputs, ndmin=2).T\n",
    "        \n",
    "        #signals into hidden layer calculated\n",
    "        hiddenInputs = np.dot(self.weightsInputHidden, inputs)\n",
    "        #signals coming from hidden layer calculated\n",
    "        hiddenOutputs = self.activationFunc(hiddenInputs)\n",
    "        \n",
    "        #signals into output layer calculated\n",
    "        finalInputs = np.dot(self.weightsHiddenOutput, hiddenOutputs)\n",
    "        #final signals from neural net calculated\n",
    "        finalOutputs = self.activationFunc(finalInputs)\n",
    "        \n",
    "        return finalOutputs\n",
    "    \n",
    "        "
   ]
  },
  {
   "cell_type": "code",
   "execution_count": 3,
   "metadata": {},
   "outputs": [],
   "source": [
    "#set number of nodes in each layer\n",
    "inputNodes = 784\n",
    "hiddenNodes = 200\n",
    "outputNodes = 10\n",
    "\n",
    "#set learning rate\n",
    "learningRate = 0.1\n",
    "\n",
    "#an instance of the neural network created\n",
    "n = NeuralNetwork(inputNodes, hiddenNodes, outputNodes, learningRate)"
   ]
  },
  {
   "cell_type": "code",
   "execution_count": 4,
   "metadata": {},
   "outputs": [],
   "source": [
    "#open training data file in READ mode\n",
    "trainingDataFile = open(\"mnist_dataset/mnist_train.csv\",'r')\n",
    "#save all the lines from the file into a list\n",
    "trainingDataList = trainingDataFile.readlines()\n",
    "#close the file\n",
    "trainingDataFile.close()"
   ]
  },
  {
   "cell_type": "code",
   "execution_count": 6,
   "metadata": {
    "scrolled": false
   },
   "outputs": [],
   "source": [
    "#trainPrep\n",
    "\n",
    "#number of times training data used for training\n",
    "epochs = 10\n",
    "\n",
    "for e in range(epochs):\n",
    "    #for every record in the training data\n",
    "    for record in trainingDataList:\n",
    "        #split each record by the commas\n",
    "        allVals = record.split(',')\n",
    "        #scale and shift the inputs\n",
    "        inputs = (np.asfarray(allVals[1:]) / 255.0 * 0.99) + 0.01\n",
    "        #print (\"Training network\", e)\n",
    "        #target output values created\n",
    "        targets = np.zeros(outputNodes) + 0.01\n",
    "        targets[int(allVals[0])] = 0.99\n",
    "        n.train(inputs, targets)\n",
    "        \n",
    "        pass\n",
    "    pass"
   ]
  },
  {
   "cell_type": "code",
   "execution_count": 7,
   "metadata": {},
   "outputs": [],
   "source": [
    "#open test data file in READ mode\n",
    "testDataFile = open(\"mnist_dataset/mnist_test_10.csv\",'r')\n",
    "#save all the lines from the file into a list\n",
    "testDataList = testDataFile.readlines()\n",
    "#close the file\n",
    "testDataFile.close()"
   ]
  },
  {
   "cell_type": "code",
   "execution_count": 8,
   "metadata": {},
   "outputs": [],
   "source": [
    "\n",
    "# test the neural network\n",
    "\n",
    "# scorecard for how well the network performs, initially empty\n",
    "scorecard = []\n",
    "\n",
    "# go through all the records in the test data set\n",
    "for record in testDataList:\n",
    "    # split the record by the ',' commas\n",
    "    allVals = record.split(',')\n",
    "    # correct answer is first value\n",
    "    correct_label = int(allVals[0])\n",
    "    # scale and shift the inputs\n",
    "    inputs = (np.asfarray(allVals[1:]) / 255.0 * 0.99) + 0.01\n",
    "    # query the network\n",
    "    outputs = n.query(inputs)\n",
    "    # the index of the highest value corresponds to the label\n",
    "    label = np.argmax(outputs)\n",
    "    # append correct or incorrect to list\n",
    "    if (label == correct_label):\n",
    "        # network's answer matches correct answer, add 1 to scorecard\n",
    "        scorecard.append(1)\n",
    "    else:\n",
    "        # network's answer doesn't match correct answer, add 0 to scorecard\n",
    "        scorecard.append(0)\n",
    "        pass\n",
    "    \n",
    "    pass"
   ]
  },
  {
   "cell_type": "code",
   "execution_count": 10,
   "metadata": {},
   "outputs": [
    {
     "name": "stdout",
     "output_type": "stream",
     "text": [
      "Calculated Network Performance =  1.0\n",
      "Network Accuracy =  100.0 %\n"
     ]
    }
   ],
   "source": [
    "# calculate the performance score, the fraction of correct answers\n",
    "scorecard_array = np.asarray(scorecard)\n",
    "scorecard_percent = (scorecard_array.sum() / scorecard_array.size) * 100\n",
    "print (\"Calculated Network Performance = \", scorecard_array.sum() / scorecard_array.size)\n",
    "print (\"Network Accuracy = \", scorecard_percent, \"%\")\n"
   ]
  },
  {
   "cell_type": "code",
   "execution_count": null,
   "metadata": {},
   "outputs": [],
   "source": []
  }
 ],
 "metadata": {
  "kernelspec": {
   "display_name": "Python 3",
   "language": "python",
   "name": "python3"
  },
  "language_info": {
   "codemirror_mode": {
    "name": "ipython",
    "version": 3
   },
   "file_extension": ".py",
   "mimetype": "text/x-python",
   "name": "python",
   "nbconvert_exporter": "python",
   "pygments_lexer": "ipython3",
   "version": "3.6.8"
  }
 },
 "nbformat": 4,
 "nbformat_minor": 2
}
