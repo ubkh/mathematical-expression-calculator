{
 "cells": [
  {
   "cell_type": "code",
   "execution_count": 18,
   "metadata": {},
   "outputs": [],
   "source": [
    "import numpy as np\n",
    "import imageio\n",
    "import cv2\n",
    "import matplotlib.pyplot\n",
    "import imutils\n",
    "from PIL import Image"
   ]
  },
  {
   "cell_type": "code",
   "execution_count": 19,
   "metadata": {},
   "outputs": [],
   "source": [
    "class NeuralNetwork:\n",
    "    \n",
    "    #initialise neural network\n",
    "    def __init__(self, givenINodes, givenHNodes, givenONodes, givenLearningRate):\n",
    "        #setup number of nodes in each layer\n",
    "        self.inputNodes = givenINodes\n",
    "        self.hiddenNodes = givenHNodes\n",
    "        self.outputNodes = givenONodes\n",
    "        \n",
    "        #setup weights with initial values\n",
    "        self.weightsInputHidden = np.random.normal(0.0, pow(self.inputNodes, -0.5), \n",
    "                                                   (self.hiddenNodes, self.inputNodes))\n",
    "        self.weightsHiddenOutput = np.random.normal(0.0, pow(self.hiddenNodes, -0.5), \n",
    "                                                    (self.outputNodes, self.hiddenNodes))\n",
    "        \n",
    "        #setup learning rate\n",
    "        self.learningRate = givenLearningRate\n",
    "        \n",
    "        #setup activation function\n",
    "        #self.activationFunc = lambda x: scipy.special.expit(x)\n",
    "        self.activationFunc = lambda x: self.sigmoid(x)\n",
    "            \n",
    "        pass\n",
    "    \n",
    "    def sigmoid(self, Z):\n",
    "        A = 1 / (1 + np.exp(-Z))\n",
    "        return A\n",
    "    \n",
    "    #train the neural network\n",
    "    def train(self, givenInputs, givenTargets):\n",
    "        #inputs and target lists turned into 2D arrays\n",
    "        inputs = np.array(givenInputs, ndmin=2).T\n",
    "        targets = np.array(givenTargets, ndmin=2).T\n",
    "        \n",
    "        #signals into hidden layer calculated\n",
    "        hiddenInputs = np.dot(self.weightsInputHidden, inputs)\n",
    "        #signals coming from hidden layer calculated\n",
    "        hiddenOutputs = self.activationFunc(hiddenInputs)\n",
    "        \n",
    "        #signals into output layer calculated\n",
    "        finalInputs = np.dot(self.weightsHiddenOutput, hiddenOutputs)\n",
    "        #signals from output layer calculated\n",
    "        finalOutputs = self.activationFunc(finalInputs)\n",
    "        \n",
    "        #error backpropagation:\n",
    "        #errors from output layer\n",
    "        outputErrors = targets - finalOutputs\n",
    "        #errors from hidden layer\n",
    "        hiddenErrors = np.dot(self.weightsHiddenOutput.T, outputErrors)\n",
    "        \n",
    "        #weight links updated between all layers\n",
    "        self.weightsHiddenOutput += self.learningRate * np.dot((outputErrors * finalOutputs * \n",
    "                                                                (1.0 - finalOutputs)), np.transpose(hiddenOutputs))\n",
    "        self.weightsInputHidden += self.learningRate * np.dot((hiddenErrors * hiddenOutputs * \n",
    "                                                               (1.0 - hiddenOutputs)), np.transpose(inputs))\n",
    "        \n",
    "        pass\n",
    "    \n",
    "    #query the neural network\n",
    "    def query(self, givenInputs):\n",
    "        #inputs list converted into a 2D array\n",
    "        inputs = np.array(givenInputs, ndmin=2).T\n",
    "        \n",
    "        #signals into hidden layer calculated\n",
    "        hiddenInputs = np.dot(self.weightsInputHidden, inputs)\n",
    "        #signals coming from hidden layer calculated\n",
    "        hiddenOutputs = self.activationFunc(hiddenInputs)\n",
    "        \n",
    "        #signals into output layer calculated\n",
    "        finalInputs = np.dot(self.weightsHiddenOutput, hiddenOutputs)\n",
    "        #final signals from neural net calculated\n",
    "        finalOutputs = self.activationFunc(finalInputs)\n",
    "        \n",
    "        return finalOutputs"
   ]
  },
  {
   "cell_type": "code",
   "execution_count": 20,
   "metadata": {},
   "outputs": [],
   "source": [
    "#set number of nodes in each layer\n",
    "inputNodes = 784\n",
    "hiddenNodes = 200\n",
    "outputNodes = 10\n",
    "\n",
    "#set learning rate\n",
    "learningRate = 0.37\n",
    "\n",
    "#an instance of the neural network created\n",
    "n = NeuralNetwork(inputNodes, hiddenNodes, outputNodes, learningRate)"
   ]
  },
  {
   "cell_type": "code",
   "execution_count": 35,
   "metadata": {},
   "outputs": [],
   "source": [
    "#open training data file in READ mode\n",
    "trainingDataFile = open(\"mnist_dataset/mnist_train.csv\",'r')\n",
    "#save all the lines from the file into a list\n",
    "trainingDataList = trainingDataFile.readlines()\n",
    "#close the file\n",
    "trainingDataFile.close()"
   ]
  },
  {
   "cell_type": "code",
   "execution_count": 36,
   "metadata": {},
   "outputs": [],
   "source": [
    "#trainPrep\n",
    "\n",
    "#number of times training data used for training\n",
    "epochs = 10\n",
    "\n",
    "for e in range(epochs):\n",
    "    #for every record in the training data\n",
    "    for record in trainingDataList:\n",
    "        #split each record by the commas\n",
    "        allVals = record.split(',')\n",
    "        #scale and shift the inputs\n",
    "        inputs = (np.asfarray(allVals[1:]) / 255.0 * 0.99) + 0.01\n",
    "        \n",
    "        #target output values created\n",
    "        targets = np.zeros(outputNodes) + 0.01\n",
    "        targets[int(allVals[0])] = 0.99\n",
    "        n.train(inputs, targets)\n",
    "        \n",
    "        pass\n",
    "    pass"
   ]
  },
  {
   "cell_type": "code",
   "execution_count": 49,
   "metadata": {},
   "outputs": [],
   "source": [
    "im = Image.open('separated/roi0.png')\n",
    "sqrWidth = np.ceil(np.sqrt(im.size[0]*im.size[1])).astype(int)\n",
    "im_resize = im.resize((sqrWidth, sqrWidth))\n",
    "im_resize.save('output.png')"
   ]
  },
  {
   "cell_type": "code",
   "execution_count": 50,
   "metadata": {},
   "outputs": [
    {
     "name": "stdout",
     "output_type": "stream",
     "text": [
      "Loading image...\n",
      "Min: 0.01\n",
      "Max: 0.648839\n",
      "[[0.44945313]\n",
      " [0.46791549]\n",
      " [0.47608419]\n",
      " [0.45102072]\n",
      " [0.49080893]\n",
      " [0.49519675]\n",
      " [0.49370836]\n",
      " [0.47002149]\n",
      " [0.49738885]\n",
      " [0.41893384]]\n",
      "Predicted value: 8\n"
     ]
    },
    {
     "data": {
      "image/png": "[encoded data removed]",
      "text/plain": [
       "<Figure size 432x288 with 1 Axes>"
      ]
     },
     "metadata": {
      "needs_background": "light"
     },
     "output_type": "display_data"
    }
   ],
   "source": [
    "print (\"Loading image...\")\n",
    "imageArray = imageio.imread('output.png', as_gray=True)\n",
    "\n",
    "imageRotated = imutils.rotate(imageArray, 360)\n",
    "imageResized = cv2.resize(imageRotated, (28, 28), cv2.INTER_AREA)\n",
    "\n",
    "imageData = 255.0 - imageResized.reshape(784)\n",
    "imageData = (imageData / 255.0 * 0.99) + 0.01\n",
    "\n",
    "print (\"Min:\", np.min(imageData))\n",
    "print (\"Max:\", np.max(imageData))\n",
    "\n",
    "matplotlib.pyplot.imshow(imageData.reshape(28,28), cmap='Greys', interpolation='None')\n",
    "\n",
    "outputs = n.query(imageData)\n",
    "\n",
    "print (outputs)\n",
    "\n",
    "label = np.argmax(outputs)\n",
    "print (\"Predicted value:\", label)\n"
   ]
  },
  {
   "cell_type": "code",
   "execution_count": null,
   "metadata": {},
   "outputs": [],
   "source": []
  }
 ],
 "metadata": {
  "kernelspec": {
   "display_name": "Python 3",
   "language": "python",
   "name": "python3"
  },
  "language_info": {
   "codemirror_mode": {
    "name": "ipython",
    "version": 3
   },
   "file_extension": ".py",
   "mimetype": "text/x-python",
   "name": "python",
   "nbconvert_exporter": "python",
   "pygments_lexer": "ipython3",
   "version": "3.6.8"
  }
 },
 "nbformat": 4,
 "nbformat_minor": 2
}
